{
 "cells": [
  {
   "cell_type": "code",
   "execution_count": 184,
   "metadata": {},
   "outputs": [],
   "source": [
    "import pandas as pd\n",
    "import numpy as np\n",
    "import matplotlib.pyplot as plt\n",
    "import random\n",
    "from sklearn.model_selection import train_test_split\n",
    "from sklearn.preprocessing import StandardScaler\n",
    "from imblearn.over_sampling import RandomOverSampler\n",
    "from sklearn.neighbors import KNeighborsClassifier\n",
    "from sklearn.naive_bayes import GaussianNB\n",
    "from sklearn.tree import DecisionTreeClassifier\n",
    "from sklearn.ensemble import RandomForestClassifier\n",
    "from sklearn.model_selection import GridSearchCV, RandomizedSearchCV, StratifiedKFold\n",
    "from sklearn.metrics import classification_report, accuracy_score, precision_score, recall_score, f1_score\n",
    "import pickle"
   ]
  },
  {
   "cell_type": "markdown",
   "metadata": {},
   "source": [
    "# **Load Dataset**\n"
   ]
  },
  {
   "cell_type": "code",
   "execution_count": 185,
   "metadata": {},
   "outputs": [
    {
     "data": {
      "text/html": [
       "<div>\n",
       "<style scoped>\n",
       "    .dataframe tbody tr th:only-of-type {\n",
       "        vertical-align: middle;\n",
       "    }\n",
       "\n",
       "    .dataframe tbody tr th {\n",
       "        vertical-align: top;\n",
       "    }\n",
       "\n",
       "    .dataframe thead th {\n",
       "        text-align: right;\n",
       "    }\n",
       "</style>\n",
       "<table border=\"1\" class=\"dataframe\">\n",
       "  <thead>\n",
       "    <tr style=\"text-align: right;\">\n",
       "      <th></th>\n",
       "      <th>Serial Number</th>\n",
       "      <th>List Year</th>\n",
       "      <th>Date Recorded</th>\n",
       "      <th>Town</th>\n",
       "      <th>Address</th>\n",
       "      <th>Assessed Value</th>\n",
       "      <th>Sale Amount</th>\n",
       "      <th>Sales Ratio</th>\n",
       "      <th>Property Type</th>\n",
       "      <th>Residential Type</th>\n",
       "      <th>Years until sold</th>\n",
       "    </tr>\n",
       "  </thead>\n",
       "  <tbody>\n",
       "    <tr>\n",
       "      <th>0</th>\n",
       "      <td>2020348</td>\n",
       "      <td>2020</td>\n",
       "      <td>9/13/2021</td>\n",
       "      <td>Ansonia</td>\n",
       "      <td>230 WAKELEE AVE</td>\n",
       "      <td>150500</td>\n",
       "      <td>325000.0</td>\n",
       "      <td>0.4630</td>\n",
       "      <td>Commercial</td>\n",
       "      <td>Nan</td>\n",
       "      <td>1</td>\n",
       "    </tr>\n",
       "    <tr>\n",
       "      <th>1</th>\n",
       "      <td>20002</td>\n",
       "      <td>2020</td>\n",
       "      <td>10/2/2020</td>\n",
       "      <td>Ashford</td>\n",
       "      <td>390 TURNPIKE RD</td>\n",
       "      <td>253000</td>\n",
       "      <td>430000.0</td>\n",
       "      <td>0.5883</td>\n",
       "      <td>Residential</td>\n",
       "      <td>Single Family</td>\n",
       "      <td>0</td>\n",
       "    </tr>\n",
       "    <tr>\n",
       "      <th>2</th>\n",
       "      <td>200212</td>\n",
       "      <td>2020</td>\n",
       "      <td>3/9/2021</td>\n",
       "      <td>Avon</td>\n",
       "      <td>5 CHESTNUT DRIVE</td>\n",
       "      <td>130400</td>\n",
       "      <td>179900.0</td>\n",
       "      <td>0.7248</td>\n",
       "      <td>Residential</td>\n",
       "      <td>Condo</td>\n",
       "      <td>1</td>\n",
       "    </tr>\n",
       "    <tr>\n",
       "      <th>3</th>\n",
       "      <td>200243</td>\n",
       "      <td>2020</td>\n",
       "      <td>4/13/2021</td>\n",
       "      <td>Avon</td>\n",
       "      <td>111 NORTHINGTON DRIVE</td>\n",
       "      <td>619290</td>\n",
       "      <td>890000.0</td>\n",
       "      <td>0.6958</td>\n",
       "      <td>Residential</td>\n",
       "      <td>Single Family</td>\n",
       "      <td>1</td>\n",
       "    </tr>\n",
       "    <tr>\n",
       "      <th>4</th>\n",
       "      <td>200377</td>\n",
       "      <td>2020</td>\n",
       "      <td>7/2/2021</td>\n",
       "      <td>Avon</td>\n",
       "      <td>70 FAR HILLS DRIVE</td>\n",
       "      <td>862330</td>\n",
       "      <td>1447500.0</td>\n",
       "      <td>0.5957</td>\n",
       "      <td>Residential</td>\n",
       "      <td>Single Family</td>\n",
       "      <td>1</td>\n",
       "    </tr>\n",
       "  </tbody>\n",
       "</table>\n",
       "</div>"
      ],
      "text/plain": [
       "   Serial Number  List Year Date Recorded     Town                Address  \\\n",
       "0        2020348       2020     9/13/2021  Ansonia        230 WAKELEE AVE   \n",
       "1          20002       2020     10/2/2020  Ashford        390 TURNPIKE RD   \n",
       "2         200212       2020      3/9/2021     Avon       5 CHESTNUT DRIVE   \n",
       "3         200243       2020     4/13/2021     Avon  111 NORTHINGTON DRIVE   \n",
       "4         200377       2020      7/2/2021     Avon     70 FAR HILLS DRIVE   \n",
       "\n",
       "   Assessed Value  Sale Amount  Sales Ratio Property Type Residential Type  \\\n",
       "0          150500     325000.0       0.4630    Commercial              Nan   \n",
       "1          253000     430000.0       0.5883   Residential    Single Family   \n",
       "2          130400     179900.0       0.7248   Residential            Condo   \n",
       "3          619290     890000.0       0.6958   Residential    Single Family   \n",
       "4          862330    1447500.0       0.5957   Residential    Single Family   \n",
       "\n",
       "   Years until sold  \n",
       "0                 1  \n",
       "1                 0  \n",
       "2                 1  \n",
       "3                 1  \n",
       "4                 1  "
      ]
     },
     "execution_count": 185,
     "metadata": {},
     "output_type": "execute_result"
    }
   ],
   "source": [
    "df_raw = pd.read_csv('Real_Estate_Sales_2001-2020_GL.csv')\n",
    "df_raw.head()"
   ]
  },
  {
   "cell_type": "markdown",
   "metadata": {},
   "source": [
    "### Data is from Kaggel.com [Real Estate Sales 2001-2020](https://www.kaggle.com/datasets/derrekdevon/real-estate-sales-2001-2020)\n",
    "\n",
    "| Attribute | Description|\n",
    "| -------- | -------- |\n",
    "|**Serial Number**| Is just a unique set of digits to identify each transaction.|\n",
    "|**List year**| This is the year that the particular property was put up for sale.|\n",
    "|**Date Recorded**| Is the date that the transaction was completed. That is, the year the property was bought.|\n",
    "|**Town**| The town where this property is located.|\n",
    "|**Address**| The property's address.|\n",
    "|**Assessed Value**| How much the property is generally considered to be worth.|\n",
    "|**Sale Amount**| How much the property was actually sold for.|\n",
    "|**Sales Ratio**| The ratio measures how close the selling price of the property is to it's assessed value.|\n",
    "|**Property Type**| What kind of property it is.|\n",
    "|**Residential Type**| If it is a residential property, what type is it.|\n",
    "|**Years until sold**| Number of years before the property was finally sold.|"
   ]
  },
  {
   "cell_type": "code",
   "execution_count": 186,
   "metadata": {},
   "outputs": [],
   "source": [
    "df_raw.dropna(inplace=True)"
   ]
  },
  {
   "cell_type": "code",
   "execution_count": 187,
   "metadata": {},
   "outputs": [
    {
     "name": "stdout",
     "output_type": "stream",
     "text": [
      "<class 'pandas.core.frame.DataFrame'>\n",
      "RangeIndex: 997213 entries, 0 to 997212\n",
      "Data columns (total 11 columns):\n",
      " #   Column            Non-Null Count   Dtype  \n",
      "---  ------            --------------   -----  \n",
      " 0   Serial Number     997213 non-null  int64  \n",
      " 1   List Year         997213 non-null  int64  \n",
      " 2   Date Recorded     997213 non-null  object \n",
      " 3   Town              997213 non-null  object \n",
      " 4   Address           997213 non-null  object \n",
      " 5   Assessed Value    997213 non-null  int64  \n",
      " 6   Sale Amount       997213 non-null  float64\n",
      " 7   Sales Ratio       997213 non-null  float64\n",
      " 8   Property Type     997213 non-null  object \n",
      " 9   Residential Type  997213 non-null  object \n",
      " 10  Years until sold  997213 non-null  int64  \n",
      "dtypes: float64(2), int64(4), object(5)\n",
      "memory usage: 83.7+ MB\n"
     ]
    }
   ],
   "source": [
    "df_raw.info()"
   ]
  },
  {
   "cell_type": "code",
   "execution_count": 188,
   "metadata": {},
   "outputs": [],
   "source": [
    "# convert date recorded values into date type data\n",
    "df_raw['Date Recorded'] = pd.to_datetime(df_raw['Date Recorded'], format='%m/%d/%Y')"
   ]
  },
  {
   "cell_type": "code",
   "execution_count": 189,
   "metadata": {},
   "outputs": [
    {
     "data": {
      "text/plain": [
       "False"
      ]
     },
     "execution_count": 189,
     "metadata": {},
     "output_type": "execute_result"
    }
   ],
   "source": [
    "# check for duplicates from all columns\n",
    "df_raw.duplicated().any()"
   ]
  },
  {
   "cell_type": "code",
   "execution_count": 190,
   "metadata": {},
   "outputs": [
    {
     "data": {
      "text/plain": [
       "True"
      ]
     },
     "execution_count": 190,
     "metadata": {},
     "output_type": "execute_result"
    }
   ],
   "source": [
    "# check for duplicates from selected columns\n",
    "df_raw.duplicated(subset=['List Year','Address','Date Recorded','Years until sold']).any()"
   ]
  },
  {
   "cell_type": "code",
   "execution_count": 191,
   "metadata": {},
   "outputs": [],
   "source": [
    "# it appears that some of the data are inconsistent because a property had multiple transactions within the same date with different assessed value, sale amount, and sale ratio\n",
    "df_filtered = df_raw.drop_duplicates(subset=['List Year', 'Town', 'Address','Years until sold'])"
   ]
  },
  {
   "cell_type": "code",
   "execution_count": 192,
   "metadata": {},
   "outputs": [
    {
     "data": {
      "text/html": [
       "<div>\n",
       "<style scoped>\n",
       "    .dataframe tbody tr th:only-of-type {\n",
       "        vertical-align: middle;\n",
       "    }\n",
       "\n",
       "    .dataframe tbody tr th {\n",
       "        vertical-align: top;\n",
       "    }\n",
       "\n",
       "    .dataframe thead th {\n",
       "        text-align: right;\n",
       "    }\n",
       "</style>\n",
       "<table border=\"1\" class=\"dataframe\">\n",
       "  <thead>\n",
       "    <tr style=\"text-align: right;\">\n",
       "      <th></th>\n",
       "      <th>Serial Number</th>\n",
       "      <th>List Year</th>\n",
       "      <th>Date Recorded</th>\n",
       "      <th>Assessed Value</th>\n",
       "      <th>Sale Amount</th>\n",
       "      <th>Sales Ratio</th>\n",
       "      <th>Years until sold</th>\n",
       "    </tr>\n",
       "  </thead>\n",
       "  <tbody>\n",
       "    <tr>\n",
       "      <th>count</th>\n",
       "      <td>9.972130e+05</td>\n",
       "      <td>997213.000000</td>\n",
       "      <td>997213</td>\n",
       "      <td>9.972130e+05</td>\n",
       "      <td>9.972130e+05</td>\n",
       "      <td>9.972130e+05</td>\n",
       "      <td>997213.000000</td>\n",
       "    </tr>\n",
       "    <tr>\n",
       "      <th>mean</th>\n",
       "      <td>4.311864e+05</td>\n",
       "      <td>2010.189829</td>\n",
       "      <td>2011-06-19 11:36:47.021769216</td>\n",
       "      <td>2.791437e+05</td>\n",
       "      <td>3.911512e+05</td>\n",
       "      <td>1.044637e+01</td>\n",
       "      <td>0.750900</td>\n",
       "    </tr>\n",
       "    <tr>\n",
       "      <th>min</th>\n",
       "      <td>0.000000e+00</td>\n",
       "      <td>2001.000000</td>\n",
       "      <td>1999-04-05 00:00:00</td>\n",
       "      <td>0.000000e+00</td>\n",
       "      <td>0.000000e+00</td>\n",
       "      <td>0.000000e+00</td>\n",
       "      <td>-18.000000</td>\n",
       "    </tr>\n",
       "    <tr>\n",
       "      <th>25%</th>\n",
       "      <td>3.044400e+04</td>\n",
       "      <td>2004.000000</td>\n",
       "      <td>2005-07-25 00:00:00</td>\n",
       "      <td>8.760000e+04</td>\n",
       "      <td>1.400000e+05</td>\n",
       "      <td>4.867000e-01</td>\n",
       "      <td>1.000000</td>\n",
       "    </tr>\n",
       "    <tr>\n",
       "      <th>50%</th>\n",
       "      <td>7.030300e+04</td>\n",
       "      <td>2010.000000</td>\n",
       "      <td>2011-01-19 00:00:00</td>\n",
       "      <td>1.383900e+05</td>\n",
       "      <td>2.250000e+05</td>\n",
       "      <td>6.246000e-01</td>\n",
       "      <td>1.000000</td>\n",
       "    </tr>\n",
       "    <tr>\n",
       "      <th>75%</th>\n",
       "      <td>1.518780e+05</td>\n",
       "      <td>2016.000000</td>\n",
       "      <td>2017-04-05 00:00:00</td>\n",
       "      <td>2.255600e+05</td>\n",
       "      <td>3.650000e+05</td>\n",
       "      <td>7.852761e-01</td>\n",
       "      <td>1.000000</td>\n",
       "    </tr>\n",
       "    <tr>\n",
       "      <th>max</th>\n",
       "      <td>2.000500e+09</td>\n",
       "      <td>2020.000000</td>\n",
       "      <td>2021-09-30 00:00:00</td>\n",
       "      <td>8.815100e+08</td>\n",
       "      <td>5.000000e+09</td>\n",
       "      <td>1.226420e+06</td>\n",
       "      <td>4.000000</td>\n",
       "    </tr>\n",
       "    <tr>\n",
       "      <th>std</th>\n",
       "      <td>6.549219e+06</td>\n",
       "      <td>6.237877</td>\n",
       "      <td>NaN</td>\n",
       "      <td>1.670610e+06</td>\n",
       "      <td>5.347270e+06</td>\n",
       "      <td>1.890192e+03</td>\n",
       "      <td>0.434742</td>\n",
       "    </tr>\n",
       "  </tbody>\n",
       "</table>\n",
       "</div>"
      ],
      "text/plain": [
       "       Serial Number      List Year                  Date Recorded  \\\n",
       "count   9.972130e+05  997213.000000                         997213   \n",
       "mean    4.311864e+05    2010.189829  2011-06-19 11:36:47.021769216   \n",
       "min     0.000000e+00    2001.000000            1999-04-05 00:00:00   \n",
       "25%     3.044400e+04    2004.000000            2005-07-25 00:00:00   \n",
       "50%     7.030300e+04    2010.000000            2011-01-19 00:00:00   \n",
       "75%     1.518780e+05    2016.000000            2017-04-05 00:00:00   \n",
       "max     2.000500e+09    2020.000000            2021-09-30 00:00:00   \n",
       "std     6.549219e+06       6.237877                            NaN   \n",
       "\n",
       "       Assessed Value   Sale Amount   Sales Ratio  Years until sold  \n",
       "count    9.972130e+05  9.972130e+05  9.972130e+05     997213.000000  \n",
       "mean     2.791437e+05  3.911512e+05  1.044637e+01          0.750900  \n",
       "min      0.000000e+00  0.000000e+00  0.000000e+00        -18.000000  \n",
       "25%      8.760000e+04  1.400000e+05  4.867000e-01          1.000000  \n",
       "50%      1.383900e+05  2.250000e+05  6.246000e-01          1.000000  \n",
       "75%      2.255600e+05  3.650000e+05  7.852761e-01          1.000000  \n",
       "max      8.815100e+08  5.000000e+09  1.226420e+06          4.000000  \n",
       "std      1.670610e+06  5.347270e+06  1.890192e+03          0.434742  "
      ]
     },
     "execution_count": 192,
     "metadata": {},
     "output_type": "execute_result"
    }
   ],
   "source": [
    "df_raw.describe()"
   ]
  },
  {
   "cell_type": "code",
   "execution_count": 193,
   "metadata": {},
   "outputs": [
    {
     "data": {
      "text/plain": [
       "Sale Amount\n",
       "False    997213\n",
       "Name: count, dtype: int64"
      ]
     },
     "execution_count": 193,
     "metadata": {},
     "output_type": "execute_result"
    }
   ],
   "source": [
    "(df_raw['Sale Amount']==20).value_counts()"
   ]
  },
  {
   "cell_type": "markdown",
   "metadata": {},
   "source": [
    "# **Data Cleaning for Numeric Data**  \n"
   ]
  },
  {
   "cell_type": "markdown",
   "metadata": {},
   "source": [
    "#### From the description about the data above, we can infer that there is inconsistent value in the 'Years until sold' column. It is not possible to have a negative value."
   ]
  },
  {
   "cell_type": "code",
   "execution_count": 194,
   "metadata": {},
   "outputs": [
    {
     "name": "stdout",
     "output_type": "stream",
     "text": [
      "Total negative values for \"Years until sold\" column: 56\n"
     ]
    }
   ],
   "source": [
    "neg_years_until_sold = df_filtered[df_filtered['Years until sold'] < 0].shape[0]\n",
    "print(f'Total negative values for \"Years until sold\" column: {neg_years_until_sold}')"
   ]
  },
  {
   "cell_type": "code",
   "execution_count": 195,
   "metadata": {},
   "outputs": [],
   "source": [
    "# create new dataframe which consist only positive value for the \"Years until sold\" column\n",
    "df1 = df_filtered.copy()\n",
    "df1 = df1[df1['Years until sold'] >= 0]\n",
    "\n",
    "# to make sure all values in \"Years until sold\" column are valid, I'm going to recalculate all the values by substracting list year and the year from date recorded\n",
    "df1['Years until sold'] = df1['Date Recorded'].dt.year - df1['List Year']"
   ]
  },
  {
   "cell_type": "code",
   "execution_count": 196,
   "metadata": {},
   "outputs": [
    {
     "data": {
      "text/html": [
       "<div>\n",
       "<style scoped>\n",
       "    .dataframe tbody tr th:only-of-type {\n",
       "        vertical-align: middle;\n",
       "    }\n",
       "\n",
       "    .dataframe tbody tr th {\n",
       "        vertical-align: top;\n",
       "    }\n",
       "\n",
       "    .dataframe thead th {\n",
       "        text-align: right;\n",
       "    }\n",
       "</style>\n",
       "<table border=\"1\" class=\"dataframe\">\n",
       "  <thead>\n",
       "    <tr style=\"text-align: right;\">\n",
       "      <th></th>\n",
       "      <th>Serial Number</th>\n",
       "      <th>List Year</th>\n",
       "      <th>Date Recorded</th>\n",
       "      <th>Assessed Value</th>\n",
       "      <th>Sale Amount</th>\n",
       "      <th>Sales Ratio</th>\n",
       "      <th>Years until sold</th>\n",
       "    </tr>\n",
       "  </thead>\n",
       "  <tbody>\n",
       "    <tr>\n",
       "      <th>count</th>\n",
       "      <td>9.616720e+05</td>\n",
       "      <td>961672.000000</td>\n",
       "      <td>961672</td>\n",
       "      <td>9.616720e+05</td>\n",
       "      <td>9.616720e+05</td>\n",
       "      <td>9.616720e+05</td>\n",
       "      <td>961672.000000</td>\n",
       "    </tr>\n",
       "    <tr>\n",
       "      <th>mean</th>\n",
       "      <td>4.384235e+05</td>\n",
       "      <td>2010.269684</td>\n",
       "      <td>2011-07-18 10:58:07.485961472</td>\n",
       "      <td>2.722355e+05</td>\n",
       "      <td>3.951581e+05</td>\n",
       "      <td>8.618162e+00</td>\n",
       "      <td>0.748671</td>\n",
       "    </tr>\n",
       "    <tr>\n",
       "      <th>min</th>\n",
       "      <td>8.100000e+01</td>\n",
       "      <td>2001.000000</td>\n",
       "      <td>2001-10-01 00:00:00</td>\n",
       "      <td>0.000000e+00</td>\n",
       "      <td>0.000000e+00</td>\n",
       "      <td>0.000000e+00</td>\n",
       "      <td>0.000000</td>\n",
       "    </tr>\n",
       "    <tr>\n",
       "      <th>25%</th>\n",
       "      <td>3.049000e+04</td>\n",
       "      <td>2004.000000</td>\n",
       "      <td>2005-08-11 00:00:00</td>\n",
       "      <td>8.820000e+04</td>\n",
       "      <td>1.430000e+05</td>\n",
       "      <td>4.866778e-01</td>\n",
       "      <td>0.000000</td>\n",
       "    </tr>\n",
       "    <tr>\n",
       "      <th>50%</th>\n",
       "      <td>7.047300e+04</td>\n",
       "      <td>2010.000000</td>\n",
       "      <td>2011-04-05 00:00:00</td>\n",
       "      <td>1.388100e+05</td>\n",
       "      <td>2.276000e+05</td>\n",
       "      <td>6.226598e-01</td>\n",
       "      <td>1.000000</td>\n",
       "    </tr>\n",
       "    <tr>\n",
       "      <th>75%</th>\n",
       "      <td>1.600270e+05</td>\n",
       "      <td>2016.000000</td>\n",
       "      <td>2017-05-01 00:00:00</td>\n",
       "      <td>2.256000e+05</td>\n",
       "      <td>3.650425e+05</td>\n",
       "      <td>7.770369e-01</td>\n",
       "      <td>1.000000</td>\n",
       "    </tr>\n",
       "    <tr>\n",
       "      <th>max</th>\n",
       "      <td>2.000500e+09</td>\n",
       "      <td>2020.000000</td>\n",
       "      <td>2021-09-30 00:00:00</td>\n",
       "      <td>8.815100e+08</td>\n",
       "      <td>5.000000e+09</td>\n",
       "      <td>1.226420e+06</td>\n",
       "      <td>4.000000</td>\n",
       "    </tr>\n",
       "    <tr>\n",
       "      <th>std</th>\n",
       "      <td>6.630489e+06</td>\n",
       "      <td>6.230115</td>\n",
       "      <td>NaN</td>\n",
       "      <td>1.613154e+06</td>\n",
       "      <td>5.437931e+06</td>\n",
       "      <td>1.696565e+03</td>\n",
       "      <td>0.433833</td>\n",
       "    </tr>\n",
       "  </tbody>\n",
       "</table>\n",
       "</div>"
      ],
      "text/plain": [
       "       Serial Number      List Year                  Date Recorded  \\\n",
       "count   9.616720e+05  961672.000000                         961672   \n",
       "mean    4.384235e+05    2010.269684  2011-07-18 10:58:07.485961472   \n",
       "min     8.100000e+01    2001.000000            2001-10-01 00:00:00   \n",
       "25%     3.049000e+04    2004.000000            2005-08-11 00:00:00   \n",
       "50%     7.047300e+04    2010.000000            2011-04-05 00:00:00   \n",
       "75%     1.600270e+05    2016.000000            2017-05-01 00:00:00   \n",
       "max     2.000500e+09    2020.000000            2021-09-30 00:00:00   \n",
       "std     6.630489e+06       6.230115                            NaN   \n",
       "\n",
       "       Assessed Value   Sale Amount   Sales Ratio  Years until sold  \n",
       "count    9.616720e+05  9.616720e+05  9.616720e+05     961672.000000  \n",
       "mean     2.722355e+05  3.951581e+05  8.618162e+00          0.748671  \n",
       "min      0.000000e+00  0.000000e+00  0.000000e+00          0.000000  \n",
       "25%      8.820000e+04  1.430000e+05  4.866778e-01          0.000000  \n",
       "50%      1.388100e+05  2.276000e+05  6.226598e-01          1.000000  \n",
       "75%      2.256000e+05  3.650425e+05  7.770369e-01          1.000000  \n",
       "max      8.815100e+08  5.000000e+09  1.226420e+06          4.000000  \n",
       "std      1.613154e+06  5.437931e+06  1.696565e+03          0.433833  "
      ]
     },
     "execution_count": 196,
     "metadata": {},
     "output_type": "execute_result"
    }
   ],
   "source": [
    "df1.describe()"
   ]
  },
  {
   "cell_type": "markdown",
   "metadata": {},
   "source": [
    "#### Based on the newest description above, there are some anomalies in the minimum and maximum value for assessed value, sale amount, and sales ratio  \n",
    "  \n",
    "#### Therefore, I want to find total rows that consist of 0 value in at least 1 out of 3 criteria: assessed value, sale amount, and sales ratio"
   ]
  },
  {
   "cell_type": "code",
   "execution_count": 197,
   "metadata": {},
   "outputs": [
    {
     "name": "stdout",
     "output_type": "stream",
     "text": [
      "\n",
      "Total data with 0 value of assessed value: 6427\n",
      "Total data with 0 value of sale amount: 1575\n",
      "Total data with 0 value of sales ratio: 7771\n",
      "\n"
     ]
    }
   ],
   "source": [
    "# display all rows with 0 value with these criteria\n",
    "zero_assessed_value = df1[df1['Assessed Value']==0].shape[0]\n",
    "zero_sale_amount = df1[df1['Sale Amount']==0].shape[0]\n",
    "zero_sales_ratio = df1[df1['Sales Ratio']==0].shape[0]\n",
    "\n",
    "print(f'''\n",
    "Total data with 0 value of assessed value: {zero_assessed_value}\n",
    "Total data with 0 value of sale amount: {zero_sale_amount}\n",
    "Total data with 0 value of sales ratio: {zero_sales_ratio}\n",
    "''')"
   ]
  },
  {
   "cell_type": "code",
   "execution_count": 198,
   "metadata": {},
   "outputs": [
    {
     "data": {
      "text/html": [
       "<div>\n",
       "<style scoped>\n",
       "    .dataframe tbody tr th:only-of-type {\n",
       "        vertical-align: middle;\n",
       "    }\n",
       "\n",
       "    .dataframe tbody tr th {\n",
       "        vertical-align: top;\n",
       "    }\n",
       "\n",
       "    .dataframe thead th {\n",
       "        text-align: right;\n",
       "    }\n",
       "</style>\n",
       "<table border=\"1\" class=\"dataframe\">\n",
       "  <thead>\n",
       "    <tr style=\"text-align: right;\">\n",
       "      <th></th>\n",
       "      <th>Serial Number</th>\n",
       "      <th>List Year</th>\n",
       "      <th>Date Recorded</th>\n",
       "      <th>Town</th>\n",
       "      <th>Address</th>\n",
       "      <th>Assessed Value</th>\n",
       "      <th>Sale Amount</th>\n",
       "      <th>Sales Ratio</th>\n",
       "      <th>Property Type</th>\n",
       "      <th>Residential Type</th>\n",
       "      <th>Years until sold</th>\n",
       "    </tr>\n",
       "  </thead>\n",
       "  <tbody>\n",
       "    <tr>\n",
       "      <th>75</th>\n",
       "      <td>10323</td>\n",
       "      <td>2001</td>\n",
       "      <td>2002-09-23</td>\n",
       "      <td>Coventry</td>\n",
       "      <td>400 EASTVIEW DR</td>\n",
       "      <td>0</td>\n",
       "      <td>325400.0</td>\n",
       "      <td>0.0</td>\n",
       "      <td>Nan</td>\n",
       "      <td>Nan</td>\n",
       "      <td>1</td>\n",
       "    </tr>\n",
       "    <tr>\n",
       "      <th>86</th>\n",
       "      <td>10045</td>\n",
       "      <td>2001</td>\n",
       "      <td>2002-01-03</td>\n",
       "      <td>Bethany</td>\n",
       "      <td>9 SIMPSON CT</td>\n",
       "      <td>96590</td>\n",
       "      <td>0.0</td>\n",
       "      <td>0.0</td>\n",
       "      <td>Nan</td>\n",
       "      <td>Nan</td>\n",
       "      <td>1</td>\n",
       "    </tr>\n",
       "    <tr>\n",
       "      <th>96</th>\n",
       "      <td>12532</td>\n",
       "      <td>2001</td>\n",
       "      <td>2002-08-13</td>\n",
       "      <td>Bolton</td>\n",
       "      <td>45 BEACON CT</td>\n",
       "      <td>0</td>\n",
       "      <td>12350.0</td>\n",
       "      <td>0.0</td>\n",
       "      <td>Nan</td>\n",
       "      <td>Nan</td>\n",
       "      <td>1</td>\n",
       "    </tr>\n",
       "    <tr>\n",
       "      <th>127</th>\n",
       "      <td>10055</td>\n",
       "      <td>2001</td>\n",
       "      <td>2001-12-04</td>\n",
       "      <td>Stafford</td>\n",
       "      <td>15 JENNIFER LN</td>\n",
       "      <td>0</td>\n",
       "      <td>165155.0</td>\n",
       "      <td>0.0</td>\n",
       "      <td>Nan</td>\n",
       "      <td>Nan</td>\n",
       "      <td>0</td>\n",
       "    </tr>\n",
       "    <tr>\n",
       "      <th>133</th>\n",
       "      <td>10502</td>\n",
       "      <td>2001</td>\n",
       "      <td>2002-01-15</td>\n",
       "      <td>Stratford</td>\n",
       "      <td>1101 SUCCESS AVE</td>\n",
       "      <td>0</td>\n",
       "      <td>50000.0</td>\n",
       "      <td>0.0</td>\n",
       "      <td>Nan</td>\n",
       "      <td>Nan</td>\n",
       "      <td>1</td>\n",
       "    </tr>\n",
       "  </tbody>\n",
       "</table>\n",
       "</div>"
      ],
      "text/plain": [
       "     Serial Number  List Year Date Recorded       Town           Address  \\\n",
       "75           10323       2001    2002-09-23   Coventry   400 EASTVIEW DR   \n",
       "86           10045       2001    2002-01-03    Bethany      9 SIMPSON CT   \n",
       "96           12532       2001    2002-08-13     Bolton      45 BEACON CT   \n",
       "127          10055       2001    2001-12-04   Stafford    15 JENNIFER LN   \n",
       "133          10502       2001    2002-01-15  Stratford  1101 SUCCESS AVE   \n",
       "\n",
       "     Assessed Value  Sale Amount  Sales Ratio Property Type Residential Type  \\\n",
       "75                0     325400.0          0.0           Nan              Nan   \n",
       "86            96590          0.0          0.0           Nan              Nan   \n",
       "96                0      12350.0          0.0           Nan              Nan   \n",
       "127               0     165155.0          0.0           Nan              Nan   \n",
       "133               0      50000.0          0.0           Nan              Nan   \n",
       "\n",
       "     Years until sold  \n",
       "75                  1  \n",
       "86                  1  \n",
       "96                  1  \n",
       "127                 0  \n",
       "133                 1  "
      ]
     },
     "execution_count": 198,
     "metadata": {},
     "output_type": "execute_result"
    }
   ],
   "source": [
    "df1[(df1['Assessed Value'] == 0)\n",
    "           | (df1['Sale Amount'] == 0)\n",
    "           | (df1['Sales Ratio'] == 0)].head()"
   ]
  },
  {
   "cell_type": "markdown",
   "metadata": {},
   "source": [
    "#### From the previous insight, we can conclude that all zero values in the Sales Ratio column happened mostly because there is zero value in the Assessed Value or Sale Amount column"
   ]
  },
  {
   "cell_type": "markdown",
   "metadata": {},
   "source": [
    "#### After scouring the internet, I got some insight regarding the property price and assessment sales ratio:\n",
    "1. Based on the property price on [landsearch.com](https://www.landsearch.com/), the cheapest property catalog is over $100. \n",
    "2. According to [iaao.org](https://www.iaao.org/media/standards/Standard_on_Ratio_Studies.pdf), property assessment sales ratio is between 90% - 110%\n",
    "\n",
    "#### Therefore, there are several steps I would do:\n",
    "1. I will filter out all rows that have assessed value and sale amount less than 100 and assign the dataframe into a new variable\n",
    "2. I will assume that the assessed value and sale amount have either the same number of digits or a maximum difference of 1 digit between them since I got no extra information on the internet to adjust them better.\n",
    "3. While adjusting the assessed value or the sale amound digit, I will ensure that the Sales Ratio is between 0.2 and 8\n",
    "\n",
    "#### Assumptions:\n",
    "1. Assessed Value and Sale Amount have either the same number of digits or a maximum difference of 1 digit.\n",
    "2. Sales Ratio below 0.2 is considered invalid because it is way too overprice.\n",
    "3. Sales Ratio above 8 is considered invalid because it is way too underprice.\n"
   ]
  },
  {
   "cell_type": "code",
   "execution_count": 199,
   "metadata": {},
   "outputs": [],
   "source": [
    "# filter out all rows that have assign value and sale amount less than 100 and assign the dataframe into a new variable\n",
    "df1_assessed_and_sale_above100 = df1.copy()\n",
    "df1_assessed_and_sale_above100 = df1[(df1['Sale Amount'] >= 100) & (df1['Assessed Value'] >= 100)].sort_values(by='Assessed Value', ascending=True)"
   ]
  },
  {
   "cell_type": "code",
   "execution_count": 200,
   "metadata": {},
   "outputs": [],
   "source": [
    "# Iterate each row to ensure the sales amount digits are equal or equal+1 with the assessed value, and vice versa\n",
    "for index,row in df1_assessed_and_sale_above100.iterrows():\n",
    "    assessed_value = row['Assessed Value']\n",
    "    assessed_value_digits = len(str(assessed_value))\n",
    "\n",
    "    sale_amount = row['Sale Amount']\n",
    "    sale_amount_digits = len(str(sale_amount).split('.', 1)[0])\n",
    "\n",
    "    diff = abs(assessed_value_digits - sale_amount_digits)\n",
    "\n",
    "    # handling possible conditions\n",
    "    if (assessed_value_digits > sale_amount_digits) and (diff > 1):\n",
    "        sale_amount *= 10**diff\n",
    "        sales_ratio = assessed_value / sale_amount\n",
    "        if sales_ratio > 8:\n",
    "            sale_amount *= 10\n",
    "    elif (assessed_value_digits < sale_amount_digits) and (diff > 1):\n",
    "        assessed_value *= 10**diff\n",
    "        sales_ratio = assessed_value / sale_amount\n",
    "        if sales_ratio < 0.2:\n",
    "            assessed_value *= 10\n",
    "    elif (assessed_value_digits == sale_amount_digits):\n",
    "        sales_ratio = row['Sales Ratio']\n",
    "        if sales_ratio < 0.2:\n",
    "            assessed_value *= 10\n",
    "        elif sales_ratio > 8:\n",
    "            sale_amount *= 10 \n",
    "\n",
    "    # Update values in the DataFrame using loc\n",
    "    df1_assessed_and_sale_above100.at[index, 'Sale Amount'] = sale_amount\n",
    "    df1_assessed_and_sale_above100.at[index, 'Assessed Value'] = int(assessed_value)\n",
    "    df1_assessed_and_sale_above100.at[index, 'Sales Ratio'] = round(assessed_value / sale_amount, 5)"
   ]
  },
  {
   "cell_type": "code",
   "execution_count": 201,
   "metadata": {},
   "outputs": [
    {
     "data": {
      "text/plain": [
       "1.5580488461079056"
      ]
     },
     "execution_count": 201,
     "metadata": {},
     "output_type": "execute_result"
    }
   ],
   "source": [
    "df1_assessed_and_sale_above100['Sales Ratio'].std()"
   ]
  },
  {
   "cell_type": "markdown",
   "metadata": {},
   "source": [
    "#### For the next step, I will handle the rows that have value less than 100 in either the Assessed Value or Sale Amount column, but exceeds 100 in one of them."
   ]
  },
  {
   "cell_type": "code",
   "execution_count": 202,
   "metadata": {},
   "outputs": [],
   "source": [
    "# get all rows that have value less than 100 in either the Assessed Value or Sale Amount column, but exceeds 100 in one of them.\n",
    "df1_assessed_or_sale_below0 = df1.copy()\n",
    "df1_assessed_or_sale_below0 = df1[((df1['Sale Amount'] < 100) & (df1['Assessed Value'] >= 100))\n",
    "                               | ((df1['Sale Amount'] >= 100) & (df1['Assessed Value'] < 100)) ]"
   ]
  },
  {
   "cell_type": "code",
   "execution_count": 203,
   "metadata": {},
   "outputs": [
    {
     "data": {
      "text/plain": [
       "0.034834951039981216"
      ]
     },
     "execution_count": 203,
     "metadata": {},
     "output_type": "execute_result"
    }
   ],
   "source": [
    "# margin of error for adjusting the sales ratio\n",
    "z = 1.96 # confidence level 95%\n",
    "std = df1_assessed_and_sale_above100['Sales Ratio'].std()\n",
    "n = df1_assessed_or_sale_below0.shape[0]\n",
    "\n",
    "# margin of error formula: z * (standard deviation / sqrt(sample size))\n",
    "moe = z * (std/(n**(1/2)))\n",
    "moe"
   ]
  },
  {
   "cell_type": "code",
   "execution_count": 204,
   "metadata": {},
   "outputs": [],
   "source": [
    "# adjust the sales ratio \n",
    "for index,row in df1_assessed_or_sale_below0.iterrows():\n",
    "    # variable initiation\n",
    "    assessed_value = row['Assessed Value']\n",
    "    property_type = row['Property Type']\n",
    "    sales_ratio = round(random.uniform(0.9-moe,1.1+moe),5)\n",
    "    \n",
    "    # replace 0 value in the Assessed Value and/or Sale Amount column\n",
    "    if assessed_value < 100:\n",
    "        assessed_value = sales_ratio * sale_amount\n",
    "    elif sale_amount < 100:\n",
    "        sale_amount = assessed_value / sales_ratio\n",
    "\n",
    "    df1_assessed_or_sale_below0.loc[index, 'Sale Amount'] = sale_amount\n",
    "    df1_assessed_or_sale_below0.loc[index, 'Assessed Value'] = int(assessed_value)\n",
    "    df1_assessed_or_sale_below0.loc[index, 'Sales Ratio'] = sales_ratio"
   ]
  },
  {
   "cell_type": "markdown",
   "metadata": {},
   "source": [
    "To finish the numeric data cleaning, I will concatenat df1_assessed_or_sale_eq0 and df1_assessed_and_sale_above0"
   ]
  },
  {
   "cell_type": "code",
   "execution_count": 205,
   "metadata": {},
   "outputs": [],
   "source": [
    "df1_numeric_clean = pd.concat([df1_assessed_and_sale_above100,df1_assessed_or_sale_below0])"
   ]
  },
  {
   "cell_type": "code",
   "execution_count": 206,
   "metadata": {},
   "outputs": [
    {
     "data": {
      "text/html": [
       "<div>\n",
       "<style scoped>\n",
       "    .dataframe tbody tr th:only-of-type {\n",
       "        vertical-align: middle;\n",
       "    }\n",
       "\n",
       "    .dataframe tbody tr th {\n",
       "        vertical-align: top;\n",
       "    }\n",
       "\n",
       "    .dataframe thead th {\n",
       "        text-align: right;\n",
       "    }\n",
       "</style>\n",
       "<table border=\"1\" class=\"dataframe\">\n",
       "  <thead>\n",
       "    <tr style=\"text-align: right;\">\n",
       "      <th></th>\n",
       "      <th>Serial Number</th>\n",
       "      <th>List Year</th>\n",
       "      <th>Date Recorded</th>\n",
       "      <th>Assessed Value</th>\n",
       "      <th>Sale Amount</th>\n",
       "      <th>Sales Ratio</th>\n",
       "      <th>Years until sold</th>\n",
       "    </tr>\n",
       "  </thead>\n",
       "  <tbody>\n",
       "    <tr>\n",
       "      <th>count</th>\n",
       "      <td>9.614350e+05</td>\n",
       "      <td>961435.000000</td>\n",
       "      <td>961435</td>\n",
       "      <td>9.614350e+05</td>\n",
       "      <td>9.614350e+05</td>\n",
       "      <td>961435.000000</td>\n",
       "      <td>961435.000000</td>\n",
       "    </tr>\n",
       "    <tr>\n",
       "      <th>mean</th>\n",
       "      <td>4.385223e+05</td>\n",
       "      <td>2010.271411</td>\n",
       "      <td>2011-07-19 02:00:47.216921344</td>\n",
       "      <td>3.366544e+06</td>\n",
       "      <td>4.180354e+06</td>\n",
       "      <td>0.810697</td>\n",
       "      <td>0.748659</td>\n",
       "    </tr>\n",
       "    <tr>\n",
       "      <th>min</th>\n",
       "      <td>8.100000e+01</td>\n",
       "      <td>2001.000000</td>\n",
       "      <td>2001-10-01 00:00:00</td>\n",
       "      <td>1.000000e+02</td>\n",
       "      <td>1.000000e+02</td>\n",
       "      <td>0.010830</td>\n",
       "      <td>0.000000</td>\n",
       "    </tr>\n",
       "    <tr>\n",
       "      <th>25%</th>\n",
       "      <td>3.049000e+04</td>\n",
       "      <td>2004.000000</td>\n",
       "      <td>2005-08-12 00:00:00</td>\n",
       "      <td>9.038000e+04</td>\n",
       "      <td>1.450000e+05</td>\n",
       "      <td>0.494180</td>\n",
       "      <td>0.000000</td>\n",
       "    </tr>\n",
       "    <tr>\n",
       "      <th>50%</th>\n",
       "      <td>7.047900e+04</td>\n",
       "      <td>2010.000000</td>\n",
       "      <td>2011-04-06 00:00:00</td>\n",
       "      <td>1.414800e+05</td>\n",
       "      <td>2.300000e+05</td>\n",
       "      <td>0.628690</td>\n",
       "      <td>1.000000</td>\n",
       "    </tr>\n",
       "    <tr>\n",
       "      <th>75%</th>\n",
       "      <td>1.600280e+05</td>\n",
       "      <td>2016.000000</td>\n",
       "      <td>2017-05-01 00:00:00</td>\n",
       "      <td>2.321200e+05</td>\n",
       "      <td>3.750000e+05</td>\n",
       "      <td>0.788070</td>\n",
       "      <td>1.000000</td>\n",
       "    </tr>\n",
       "    <tr>\n",
       "      <th>max</th>\n",
       "      <td>2.000500e+09</td>\n",
       "      <td>2020.000000</td>\n",
       "      <td>2021-09-30 00:00:00</td>\n",
       "      <td>2.238530e+09</td>\n",
       "      <td>5.000000e+09</td>\n",
       "      <td>99.411200</td>\n",
       "      <td>4.000000</td>\n",
       "    </tr>\n",
       "    <tr>\n",
       "      <th>std</th>\n",
       "      <td>6.631303e+06</td>\n",
       "      <td>6.229865</td>\n",
       "      <td>NaN</td>\n",
       "      <td>3.801867e+07</td>\n",
       "      <td>4.201716e+07</td>\n",
       "      <td>1.551919</td>\n",
       "      <td>0.433840</td>\n",
       "    </tr>\n",
       "  </tbody>\n",
       "</table>\n",
       "</div>"
      ],
      "text/plain": [
       "       Serial Number      List Year                  Date Recorded  \\\n",
       "count   9.614350e+05  961435.000000                         961435   \n",
       "mean    4.385223e+05    2010.271411  2011-07-19 02:00:47.216921344   \n",
       "min     8.100000e+01    2001.000000            2001-10-01 00:00:00   \n",
       "25%     3.049000e+04    2004.000000            2005-08-12 00:00:00   \n",
       "50%     7.047900e+04    2010.000000            2011-04-06 00:00:00   \n",
       "75%     1.600280e+05    2016.000000            2017-05-01 00:00:00   \n",
       "max     2.000500e+09    2020.000000            2021-09-30 00:00:00   \n",
       "std     6.631303e+06       6.229865                            NaN   \n",
       "\n",
       "       Assessed Value   Sale Amount    Sales Ratio  Years until sold  \n",
       "count    9.614350e+05  9.614350e+05  961435.000000     961435.000000  \n",
       "mean     3.366544e+06  4.180354e+06       0.810697          0.748659  \n",
       "min      1.000000e+02  1.000000e+02       0.010830          0.000000  \n",
       "25%      9.038000e+04  1.450000e+05       0.494180          0.000000  \n",
       "50%      1.414800e+05  2.300000e+05       0.628690          1.000000  \n",
       "75%      2.321200e+05  3.750000e+05       0.788070          1.000000  \n",
       "max      2.238530e+09  5.000000e+09      99.411200          4.000000  \n",
       "std      3.801867e+07  4.201716e+07       1.551919          0.433840  "
      ]
     },
     "execution_count": 206,
     "metadata": {},
     "output_type": "execute_result"
    }
   ],
   "source": [
    "df1_numeric_clean.describe()"
   ]
  },
  {
   "cell_type": "markdown",
   "metadata": {},
   "source": [
    "\n",
    "# **Data Cleaning for String Data**"
   ]
  },
  {
   "cell_type": "code",
   "execution_count": 207,
   "metadata": {},
   "outputs": [],
   "source": [
    "df2 = df1_numeric_clean.copy()"
   ]
  },
  {
   "cell_type": "code",
   "execution_count": 208,
   "metadata": {},
   "outputs": [
    {
     "data": {
      "text/plain": [
       "Serial Number  List Year  Date Recorded  Town   Address  Assessed Value  Sale Amount  Sales Ratio  Property Type  Residential Type  Years until sold\n",
       "False          False      False          False  False    False           False        False        False          False             False               594162\n",
       "                                                                                                   True           True              False               361658\n",
       "                                                                                                   False          True              False                 5591\n",
       "                                                True     False           False        False        True           True              False                   20\n",
       "                                                                                                   False          False             False                    4\n",
       "Name: count, dtype: int64"
      ]
     },
     "execution_count": 208,
     "metadata": {},
     "output_type": "execute_result"
    }
   ],
   "source": [
    "(df2 == 'Nan').value_counts()"
   ]
  },
  {
   "cell_type": "code",
   "execution_count": 209,
   "metadata": {},
   "outputs": [
    {
     "data": {
      "text/plain": [
       "Property Type\n",
       "Single Family     391276\n",
       "Nan               361678\n",
       "Condo             103444\n",
       "Residential        59694\n",
       "Two Family         25521\n",
       "Three Family       12129\n",
       "Vacant Land         2944\n",
       "Four Family         2102\n",
       "Commercial          1938\n",
       "Apartments           479\n",
       "Industrial           226\n",
       "Public Utility         4\n",
       "Name: count, dtype: int64"
      ]
     },
     "execution_count": 209,
     "metadata": {},
     "output_type": "execute_result"
    }
   ],
   "source": [
    "df2['Property Type'].value_counts()"
   ]
  },
  {
   "cell_type": "code",
   "execution_count": 210,
   "metadata": {},
   "outputs": [
    {
     "data": {
      "text/plain": [
       "Residential Type\n",
       "Single Family    433885\n",
       "Nan              367269\n",
       "Condo            115658\n",
       "Two Family        28665\n",
       "Three Family      13596\n",
       "Four Family        2362\n",
       "Name: count, dtype: int64"
      ]
     },
     "execution_count": 210,
     "metadata": {},
     "output_type": "execute_result"
    }
   ],
   "source": [
    "df2['Residential Type'].value_counts()"
   ]
  },
  {
   "cell_type": "markdown",
   "metadata": {},
   "source": [
    "#### Based on the insight about property types and the research I did on study.com, I've decided to devide the property types into 5 groups:\n",
    "1. Residential (Singe Family, Multi-Family, Condo, Apartment)\n",
    "2. Industrial\n",
    "3. Commercial\n",
    "4. Public Utility\n",
    "5. Vacant Land"
   ]
  },
  {
   "cell_type": "code",
   "execution_count": 211,
   "metadata": {},
   "outputs": [
    {
     "data": {
      "text/plain": [
       "Residential Type\n",
       "Single Family    433885\n",
       "Nan              366790\n",
       "Condo            115658\n",
       "Two Family        28665\n",
       "Three Family      13596\n",
       "Four Family        2362\n",
       "Apartments          479\n",
       "Name: count, dtype: int64"
      ]
     },
     "execution_count": 211,
     "metadata": {},
     "output_type": "execute_result"
    }
   ],
   "source": [
    "# update the residential type first\n",
    "df2['Residential Type'] = df2.apply(lambda type: type['Property Type']\n",
    "                                    if type['Property Type'] in ['Single Family', 'Two Family', 'Three Family', 'Four Family','Condo', 'Apartments']\n",
    "                                    else type['Residential Type'], axis=1)\n",
    "\n",
    "df2['Residential Type'].value_counts()"
   ]
  },
  {
   "cell_type": "code",
   "execution_count": 212,
   "metadata": {},
   "outputs": [
    {
     "data": {
      "text/plain": [
       "Property Type\n",
       "Residential       594645\n",
       "Nan               361678\n",
       "Vacant Land         2944\n",
       "Commercial          1938\n",
       "Industrial           226\n",
       "Public Utility         4\n",
       "Name: count, dtype: int64"
      ]
     },
     "execution_count": 212,
     "metadata": {},
     "output_type": "execute_result"
    }
   ],
   "source": [
    "# update the property type\n",
    "df2['Property Type'] = df2['Property Type'].apply(lambda type: 'Residential'\n",
    "                                                  if type in ['Single Family', 'Two Family', 'Three Family', 'Four Family','Condo', 'Apartments']\n",
    "                                                  else type)\n",
    "\n",
    "df2['Property Type'].value_counts()"
   ]
  },
  {
   "cell_type": "markdown",
   "metadata": {},
   "source": [
    "#### To determine the property type and the residential type, I'm going to use machine learning to classify the data"
   ]
  },
  {
   "cell_type": "code",
   "execution_count": 213,
   "metadata": {},
   "outputs": [
    {
     "data": {
      "text/plain": [
       "Property Type\n",
       "Residential       594645\n",
       "Nan               361678\n",
       "Vacant Land         2944\n",
       "Commercial          1938\n",
       "Industrial           226\n",
       "Public Utility         4\n",
       "Name: count, dtype: int64"
      ]
     },
     "execution_count": 213,
     "metadata": {},
     "output_type": "execute_result"
    }
   ],
   "source": [
    "df2_ml = df2[['Assessed Value', 'Sale Amount', 'Sales Ratio', 'Years until sold', 'Property Type', 'Residential Type']].copy()\n",
    "df2_ml['Property Type'].value_counts()"
   ]
  },
  {
   "cell_type": "code",
   "execution_count": 214,
   "metadata": {},
   "outputs": [
    {
     "data": {
      "text/html": [
       "<div>\n",
       "<style scoped>\n",
       "    .dataframe tbody tr th:only-of-type {\n",
       "        vertical-align: middle;\n",
       "    }\n",
       "\n",
       "    .dataframe tbody tr th {\n",
       "        vertical-align: top;\n",
       "    }\n",
       "\n",
       "    .dataframe thead th {\n",
       "        text-align: right;\n",
       "    }\n",
       "</style>\n",
       "<table border=\"1\" class=\"dataframe\">\n",
       "  <thead>\n",
       "    <tr style=\"text-align: right;\">\n",
       "      <th></th>\n",
       "      <th>Assessed Value</th>\n",
       "      <th>Sale Amount</th>\n",
       "      <th>Sales Ratio</th>\n",
       "      <th>Years until sold</th>\n",
       "      <th>Property Type</th>\n",
       "    </tr>\n",
       "  </thead>\n",
       "  <tbody>\n",
       "    <tr>\n",
       "      <th>23750</th>\n",
       "      <td>100000</td>\n",
       "      <td>231000.0</td>\n",
       "      <td>0.43290</td>\n",
       "      <td>1</td>\n",
       "      <td>Residential</td>\n",
       "    </tr>\n",
       "    <tr>\n",
       "      <th>610046</th>\n",
       "      <td>100000</td>\n",
       "      <td>366000.0</td>\n",
       "      <td>0.27322</td>\n",
       "      <td>1</td>\n",
       "      <td>Residential</td>\n",
       "    </tr>\n",
       "    <tr>\n",
       "      <th>453243</th>\n",
       "      <td>100000</td>\n",
       "      <td>435400.0</td>\n",
       "      <td>0.22967</td>\n",
       "      <td>0</td>\n",
       "      <td>Residential</td>\n",
       "    </tr>\n",
       "    <tr>\n",
       "      <th>835864</th>\n",
       "      <td>100000</td>\n",
       "      <td>262500.0</td>\n",
       "      <td>0.38095</td>\n",
       "      <td>1</td>\n",
       "      <td>Residential</td>\n",
       "    </tr>\n",
       "    <tr>\n",
       "      <th>529368</th>\n",
       "      <td>100000</td>\n",
       "      <td>279000.0</td>\n",
       "      <td>0.35842</td>\n",
       "      <td>1</td>\n",
       "      <td>Residential</td>\n",
       "    </tr>\n",
       "    <tr>\n",
       "      <th>...</th>\n",
       "      <td>...</td>\n",
       "      <td>...</td>\n",
       "      <td>...</td>\n",
       "      <td>...</td>\n",
       "      <td>...</td>\n",
       "    </tr>\n",
       "    <tr>\n",
       "      <th>992641</th>\n",
       "      <td>510241680</td>\n",
       "      <td>468000000.0</td>\n",
       "      <td>1.09026</td>\n",
       "      <td>1</td>\n",
       "      <td>Residential</td>\n",
       "    </tr>\n",
       "    <tr>\n",
       "      <th>994922</th>\n",
       "      <td>444478320</td>\n",
       "      <td>468000000.0</td>\n",
       "      <td>0.94974</td>\n",
       "      <td>1</td>\n",
       "      <td>Residential</td>\n",
       "    </tr>\n",
       "    <tr>\n",
       "      <th>996063</th>\n",
       "      <td>458382600</td>\n",
       "      <td>468000000.0</td>\n",
       "      <td>0.97945</td>\n",
       "      <td>1</td>\n",
       "      <td>Residential</td>\n",
       "    </tr>\n",
       "    <tr>\n",
       "      <th>996597</th>\n",
       "      <td>427363560</td>\n",
       "      <td>468000000.0</td>\n",
       "      <td>0.91317</td>\n",
       "      <td>1</td>\n",
       "      <td>Residential</td>\n",
       "    </tr>\n",
       "    <tr>\n",
       "      <th>996735</th>\n",
       "      <td>444974400</td>\n",
       "      <td>468000000.0</td>\n",
       "      <td>0.95080</td>\n",
       "      <td>1</td>\n",
       "      <td>Residential</td>\n",
       "    </tr>\n",
       "  </tbody>\n",
       "</table>\n",
       "<p>599757 rows × 5 columns</p>\n",
       "</div>"
      ],
      "text/plain": [
       "        Assessed Value  Sale Amount  Sales Ratio  Years until sold  \\\n",
       "23750           100000     231000.0      0.43290                 1   \n",
       "610046          100000     366000.0      0.27322                 1   \n",
       "453243          100000     435400.0      0.22967                 0   \n",
       "835864          100000     262500.0      0.38095                 1   \n",
       "529368          100000     279000.0      0.35842                 1   \n",
       "...                ...          ...          ...               ...   \n",
       "992641       510241680  468000000.0      1.09026                 1   \n",
       "994922       444478320  468000000.0      0.94974                 1   \n",
       "996063       458382600  468000000.0      0.97945                 1   \n",
       "996597       427363560  468000000.0      0.91317                 1   \n",
       "996735       444974400  468000000.0      0.95080                 1   \n",
       "\n",
       "       Property Type  \n",
       "23750    Residential  \n",
       "610046   Residential  \n",
       "453243   Residential  \n",
       "835864   Residential  \n",
       "529368   Residential  \n",
       "...              ...  \n",
       "992641   Residential  \n",
       "994922   Residential  \n",
       "996063   Residential  \n",
       "996597   Residential  \n",
       "996735   Residential  \n",
       "\n",
       "[599757 rows x 5 columns]"
      ]
     },
     "execution_count": 214,
     "metadata": {},
     "output_type": "execute_result"
    }
   ],
   "source": [
    "# filter the dataset from Nan values\n",
    "df2_ml_not_nan_pt = df2_ml[df2_ml['Property Type'] != 'Nan'].drop('Residential Type', axis=1)\n",
    "df2_ml_not_nan_pt"
   ]
  },
  {
   "cell_type": "markdown",
   "metadata": {},
   "source": [
    "#### 1. Prediction for Property Type"
   ]
  },
  {
   "cell_type": "code",
   "execution_count": 215,
   "metadata": {},
   "outputs": [],
   "source": [
    "def scale_dataset(data, target_column, oversample=False):\n",
    "    X = data[data.columns[:-1]].values\n",
    "    y = data[target_column].values\n",
    "\n",
    "    # scale the feature data to make the value range more reasonable and help the computer learn more efficient\n",
    "    scaler = StandardScaler()\n",
    "    X = scaler.fit_transform(X)\n",
    "\n",
    "    # oversampling data to make the data distribution more balance\n",
    "    if oversample:\n",
    "        ros = RandomOverSampler()\n",
    "        X, y = ros.fit_resample(X, y)\n",
    "    \n",
    "    \n",
    "    data = np.hstack([X,y.reshape(-1,1)])\n",
    "\n",
    "    return data,  X, y"
   ]
  },
  {
   "cell_type": "code",
   "execution_count": 216,
   "metadata": {},
   "outputs": [],
   "source": [
    "# split the dataset\n",
    "pt_train, pt_test = train_test_split(df2_ml_not_nan_pt, test_size=0.6, random_state= 42, shuffle= True)"
   ]
  },
  {
   "cell_type": "code",
   "execution_count": 217,
   "metadata": {},
   "outputs": [],
   "source": [
    "# scale and oversample train and test dataset\n",
    "pt_train, pt_X_train, pt_y_train = scale_dataset(pt_train, 'Property Type', oversample=True)\n",
    "pt_test, pt_X_test, pt_y_test = scale_dataset(pt_test, 'Property Type', oversample=False)"
   ]
  },
  {
   "cell_type": "code",
   "execution_count": 218,
   "metadata": {},
   "outputs": [
    {
     "data": {
      "image/png": "[encoded data removed]",
      "text/plain": [
       "<Figure size 1136.5x1000 with 20 Axes>"
      ]
     },
     "metadata": {},
     "output_type": "display_data"
    }
   ],
   "source": [
    "import seaborn as sns \n",
    "sns.pairplot(df2_ml_not_nan_pt, hue= 'Property Type')\n",
    "plt.show()"
   ]
  },
  {
   "cell_type": "markdown",
   "metadata": {},
   "source": [
    "Since the data points that we have are overlapping one another, the kNN model would perform great in this scenario because the kNN model is based on Euclidean Distance, which the model will predict the class of a point based on its nearby points. It's good for situations where different classes mix in the data."
   ]
  },
  {
   "cell_type": "code",
   "execution_count": 219,
   "metadata": {},
   "outputs": [
    {
     "name": "stderr",
     "output_type": "stream",
     "text": [
      "C:\\Users\\fredl\\AppData\\Roaming\\Python\\Python312\\site-packages\\sklearn\\metrics\\_classification.py:1509: UndefinedMetricWarning: Precision is ill-defined and being set to 0.0 in labels with no predicted samples. Use `zero_division` parameter to control this behavior.\n",
      "  _warn_prf(average, modifier, f\"{metric.capitalize()} is\", len(result))\n",
      "C:\\Users\\fredl\\AppData\\Roaming\\Python\\Python312\\site-packages\\sklearn\\metrics\\_classification.py:1509: UndefinedMetricWarning: Precision is ill-defined and being set to 0.0 in labels with no predicted samples. Use `zero_division` parameter to control this behavior.\n",
      "  _warn_prf(average, modifier, f\"{metric.capitalize()} is\", len(result))\n",
      "C:\\Users\\fredl\\AppData\\Roaming\\Python\\Python312\\site-packages\\sklearn\\metrics\\_classification.py:1509: UndefinedMetricWarning: Precision is ill-defined and being set to 0.0 in labels with no predicted samples. Use `zero_division` parameter to control this behavior.\n",
      "  _warn_prf(average, modifier, f\"{metric.capitalize()} is\", len(result))\n"
     ]
    },
    {
     "name": "stdout",
     "output_type": "stream",
     "text": [
      "-----------------------------------\n",
      "Accuracy Score: 0.97402\n",
      "Precision Score: 0.98373\n",
      "Recall Score: 0.97402\n",
      "F1 Score: 0.9788\n",
      "Labels with no predicted samples: {'Public Utility'}\n",
      "-----------------------------------\n"
     ]
    }
   ],
   "source": [
    "knn = KNeighborsClassifier()\n",
    "knn.fit(pt_X_train, pt_y_train) # train knn\n",
    "\n",
    "# make prediction\n",
    "pt_y_pred = knn.predict(pt_X_test)\n",
    "\n",
    "# test set evaluation\n",
    "report = classification_report(pt_y_test, pt_y_pred)\n",
    "knn_accuracy_score = accuracy_score(pt_y_test, pt_y_pred)\n",
    "knn_precision_score = precision_score(pt_y_test, pt_y_pred, average='weighted', zero_division=0)  # Choose the appropriate average\n",
    "knn_recall_score = recall_score(pt_y_test, pt_y_pred, average='weighted', zero_division=0)  # Choose the appropriate average\n",
    "knn_f1_score = f1_score(pt_y_test, pt_y_pred, average='weighted', zero_division=0)  # Choose the appropriate average\n",
    "\n",
    "print('-'*35)\n",
    "print(f'Accuracy Score: {round(knn_accuracy_score,5)}')\n",
    "print(f'Precision Score: {round(knn_precision_score,5)}')\n",
    "print(f'Recall Score: {round(knn_recall_score,5)}')\n",
    "print(f'F1 Score: {round(knn_f1_score,5)}')\n",
    "print(f'Labels with no predicted samples: {set(np.unique(pt_y_test)) - set(np.unique(pt_y_pred))}')\n",
    "print('-'*35)"
   ]
  },
  {
   "cell_type": "markdown",
   "metadata": {},
   "source": [
    "kNN hyperparameter tuning for property type prediction model"
   ]
  },
  {
   "cell_type": "code",
   "execution_count": 220,
   "metadata": {},
   "outputs": [
    {
     "name": "stdout",
     "output_type": "stream",
     "text": [
      "Fitting 10 folds for each of 10 candidates, totalling 100 fits\n",
      "[CV] END ......................................n_neighbors=1; total time=   8.5s\n",
      "[CV] END ......................................n_neighbors=1; total time=   8.5s\n",
      "[CV] END ......................................n_neighbors=1; total time=   8.6s\n",
      "[CV] END ......................................n_neighbors=1; total time=   8.4s\n",
      "[CV] END ......................................n_neighbors=1; total time=   8.3s\n",
      "[CV] END ......................................n_neighbors=1; total time=   8.3s\n",
      "[CV] END ......................................n_neighbors=1; total time=   8.4s\n",
      "[CV] END ......................................n_neighbors=1; total time=   8.1s\n",
      "[CV] END ......................................n_neighbors=1; total time=   8.3s\n",
      "[CV] END ......................................n_neighbors=1; total time=   8.5s\n",
      "[CV] END ......................................n_neighbors=3; total time=   8.8s\n",
      "[CV] END ......................................n_neighbors=3; total time=   8.7s\n",
      "[CV] END ......................................n_neighbors=3; total time=   9.0s\n",
      "[CV] END ......................................n_neighbors=3; total time=   8.7s\n",
      "[CV] END ......................................n_neighbors=3; total time=   8.7s\n",
      "[CV] END ......................................n_neighbors=3; total time=   8.5s\n",
      "[CV] END ......................................n_neighbors=3; total time=   8.7s\n",
      "[CV] END ......................................n_neighbors=3; total time=   8.4s\n",
      "[CV] END ......................................n_neighbors=3; total time=   8.6s\n",
      "[CV] END ......................................n_neighbors=3; total time=   8.7s\n",
      "[CV] END ......................................n_neighbors=5; total time=   8.8s\n",
      "[CV] END ......................................n_neighbors=5; total time=   8.7s\n",
      "[CV] END ......................................n_neighbors=5; total time=   9.0s\n",
      "[CV] END ......................................n_neighbors=5; total time=   8.8s\n",
      "[CV] END ......................................n_neighbors=5; total time=   8.8s\n",
      "[CV] END ......................................n_neighbors=5; total time=   9.3s\n",
      "[CV] END ......................................n_neighbors=5; total time=   9.4s\n",
      "[CV] END ......................................n_neighbors=5; total time=   8.8s\n",
      "[CV] END ......................................n_neighbors=5; total time=   9.0s\n",
      "[CV] END ......................................n_neighbors=5; total time=   9.4s\n",
      "[CV] END ......................................n_neighbors=7; total time=   9.7s\n",
      "[CV] END ......................................n_neighbors=7; total time=   9.0s\n",
      "[CV] END ......................................n_neighbors=7; total time=   9.3s\n",
      "[CV] END ......................................n_neighbors=7; total time=   9.0s\n",
      "[CV] END ......................................n_neighbors=7; total time=   9.0s\n",
      "[CV] END ......................................n_neighbors=7; total time=   9.0s\n",
      "[CV] END ......................................n_neighbors=7; total time=   8.9s\n",
      "[CV] END ......................................n_neighbors=7; total time=   8.7s\n",
      "[CV] END ......................................n_neighbors=7; total time=   9.2s\n",
      "[CV] END ......................................n_neighbors=7; total time=   9.2s\n",
      "[CV] END ......................................n_neighbors=9; total time=   9.2s\n",
      "[CV] END ......................................n_neighbors=9; total time=   9.0s\n",
      "[CV] END ......................................n_neighbors=9; total time=   9.5s\n",
      "[CV] END ......................................n_neighbors=9; total time=   9.2s\n",
      "[CV] END ......................................n_neighbors=9; total time=   9.3s\n",
      "[CV] END ......................................n_neighbors=9; total time=   9.7s\n",
      "[CV] END ......................................n_neighbors=9; total time=   9.8s\n",
      "[CV] END ......................................n_neighbors=9; total time=  10.6s\n",
      "[CV] END ......................................n_neighbors=9; total time=  10.7s\n",
      "[CV] END ......................................n_neighbors=9; total time=   9.6s\n",
      "[CV] END .....................................n_neighbors=11; total time=   9.4s\n",
      "[CV] END .....................................n_neighbors=11; total time=   9.3s\n",
      "[CV] END .....................................n_neighbors=11; total time=  10.0s\n",
      "[CV] END .....................................n_neighbors=11; total time=   9.6s\n",
      "[CV] END .....................................n_neighbors=11; total time=   9.6s\n",
      "[CV] END .....................................n_neighbors=11; total time=   9.0s\n",
      "[CV] END .....................................n_neighbors=11; total time=   9.2s\n",
      "[CV] END .....................................n_neighbors=11; total time=   8.9s\n",
      "[CV] END .....................................n_neighbors=11; total time=   9.2s\n",
      "[CV] END .....................................n_neighbors=11; total time=   9.2s\n",
      "[CV] END .....................................n_neighbors=13; total time=   9.3s\n",
      "[CV] END .....................................n_neighbors=13; total time=   9.4s\n",
      "[CV] END .....................................n_neighbors=13; total time=   9.7s\n",
      "[CV] END .....................................n_neighbors=13; total time=   9.3s\n",
      "[CV] END .....................................n_neighbors=13; total time=   9.3s\n",
      "[CV] END .....................................n_neighbors=13; total time=   9.1s\n",
      "[CV] END .....................................n_neighbors=13; total time=   9.2s\n",
      "[CV] END .....................................n_neighbors=13; total time=   8.9s\n",
      "[CV] END .....................................n_neighbors=13; total time=   9.2s\n",
      "[CV] END .....................................n_neighbors=13; total time=   9.4s\n",
      "[CV] END .....................................n_neighbors=15; total time=   9.6s\n",
      "[CV] END .....................................n_neighbors=15; total time=  10.4s\n",
      "[CV] END .....................................n_neighbors=15; total time=  10.4s\n",
      "[CV] END .....................................n_neighbors=15; total time=   9.7s\n",
      "[CV] END .....................................n_neighbors=15; total time=   9.7s\n",
      "[CV] END .....................................n_neighbors=15; total time=   9.3s\n",
      "[CV] END .....................................n_neighbors=15; total time=   9.4s\n",
      "[CV] END .....................................n_neighbors=15; total time=   9.0s\n",
      "[CV] END .....................................n_neighbors=15; total time=   9.4s\n",
      "[CV] END .....................................n_neighbors=15; total time=  10.0s\n",
      "[CV] END .....................................n_neighbors=17; total time=   9.9s\n",
      "[CV] END .....................................n_neighbors=17; total time=   9.8s\n",
      "[CV] END .....................................n_neighbors=17; total time=  10.0s\n",
      "[CV] END .....................................n_neighbors=17; total time=   9.7s\n",
      "[CV] END .....................................n_neighbors=17; total time=   9.7s\n",
      "[CV] END .....................................n_neighbors=17; total time=   9.5s\n",
      "[CV] END .....................................n_neighbors=17; total time=   9.9s\n",
      "[CV] END .....................................n_neighbors=17; total time=   9.2s\n",
      "[CV] END .....................................n_neighbors=17; total time=   9.5s\n",
      "[CV] END .....................................n_neighbors=17; total time=   9.4s\n",
      "[CV] END .....................................n_neighbors=19; total time=   9.5s\n",
      "[CV] END .....................................n_neighbors=19; total time=   9.5s\n",
      "[CV] END .....................................n_neighbors=19; total time=  10.0s\n",
      "[CV] END .....................................n_neighbors=19; total time=   9.5s\n",
      "[CV] END .....................................n_neighbors=19; total time=   9.5s\n",
      "[CV] END .....................................n_neighbors=19; total time=   9.4s\n",
      "[CV] END .....................................n_neighbors=19; total time=   9.4s\n",
      "[CV] END .....................................n_neighbors=19; total time=   9.1s\n",
      "[CV] END .....................................n_neighbors=19; total time=   9.6s\n",
      "[CV] END .....................................n_neighbors=19; total time=   9.5s\n",
      "-----------------------------------\n",
      "Accuracy Score: 0.97979\n",
      "Precision Score: 0.98364\n",
      "Recall Score: 0.97979\n",
      "F1 Score: 0.9817\n",
      "Labels with no predicted samples: {'Public Utility'}\n",
      "Best parameters: {'n_neighbors': 3}\n",
      "-----------------------------------\n"
     ]
    }
   ],
   "source": [
    "# define the parameters\n",
    "knn_params = {\n",
    "    'n_neighbors': range(1,21,2)\n",
    "}\n",
    "\n",
    "# grid search\n",
    "cv = StratifiedKFold(n_splits= 10)\n",
    "grid_search = GridSearchCV(estimator=knn, param_grid=knn_params, cv=cv, scoring='accuracy', verbose=2)\n",
    "grid_result = grid_search.fit(pt_X_train, pt_y_train)\n",
    "\n",
    "# final model and make prediction\n",
    "final_knn = KNeighborsClassifier(**grid_result.best_params_)\n",
    "final_knn.fit(pt_X_train, pt_y_train)\n",
    "pt_y_pred = final_knn.predict(pt_X_test)\n",
    "\n",
    "# test set evaluation\n",
    "knn_accuracy_score = accuracy_score(pt_y_test, pt_y_pred)\n",
    "knn_precision_score = precision_score(pt_y_test, pt_y_pred, average='weighted', zero_division=0)  # Choose the appropriate average\n",
    "knn_recall_score = recall_score(pt_y_test, pt_y_pred, average='weighted', zero_division=0)  # Choose the appropriate average\n",
    "knn_f1_score = f1_score(pt_y_test, pt_y_pred, average='weighted', zero_division=0)  # Choose the appropriate average\n",
    "\n",
    "print('-'*35)\n",
    "print(f'Accuracy Score: {round(knn_accuracy_score,5)}')\n",
    "print(f'Precision Score: {round(knn_precision_score,5)}')\n",
    "print(f'Recall Score: {round(knn_recall_score,5)}')\n",
    "print(f'F1 Score: {round(knn_f1_score,5)}')\n",
    "print(f'Labels with no predicted samples: {set(np.unique(pt_y_test)) - set(np.unique(pt_y_pred))}')\n",
    "print(f'Best parameters: {grid_result.best_params_}')\n",
    "print('-'*35)"
   ]
  },
  {
   "cell_type": "code",
   "execution_count": 221,
   "metadata": {},
   "outputs": [],
   "source": [
    "# save knn model\n",
    "knn_property_type = pickle.dumps(final_knn)"
   ]
  },
  {
   "cell_type": "markdown",
   "metadata": {},
   "source": [
    "Predict the property type of a feature data that have \"Nan\" value in the Property Type column"
   ]
  },
  {
   "cell_type": "code",
   "execution_count": 222,
   "metadata": {},
   "outputs": [
    {
     "data": {
      "text/html": [
       "<div>\n",
       "<style scoped>\n",
       "    .dataframe tbody tr th:only-of-type {\n",
       "        vertical-align: middle;\n",
       "    }\n",
       "\n",
       "    .dataframe tbody tr th {\n",
       "        vertical-align: top;\n",
       "    }\n",
       "\n",
       "    .dataframe thead th {\n",
       "        text-align: right;\n",
       "    }\n",
       "</style>\n",
       "<table border=\"1\" class=\"dataframe\">\n",
       "  <thead>\n",
       "    <tr style=\"text-align: right;\">\n",
       "      <th></th>\n",
       "      <th>Assessed Value</th>\n",
       "      <th>Sale Amount</th>\n",
       "      <th>Sales Ratio</th>\n",
       "      <th>Years until sold</th>\n",
       "      <th>Property Type</th>\n",
       "    </tr>\n",
       "  </thead>\n",
       "  <tbody>\n",
       "    <tr>\n",
       "      <th>358557</th>\n",
       "      <td>100000</td>\n",
       "      <td>475000.0</td>\n",
       "      <td>0.21053</td>\n",
       "      <td>1</td>\n",
       "      <td>Nan</td>\n",
       "    </tr>\n",
       "    <tr>\n",
       "      <th>569452</th>\n",
       "      <td>100000</td>\n",
       "      <td>230000.0</td>\n",
       "      <td>0.43478</td>\n",
       "      <td>1</td>\n",
       "      <td>Nan</td>\n",
       "    </tr>\n",
       "    <tr>\n",
       "      <th>387250</th>\n",
       "      <td>1000000</td>\n",
       "      <td>561228.0</td>\n",
       "      <td>1.78181</td>\n",
       "      <td>1</td>\n",
       "      <td>Nan</td>\n",
       "    </tr>\n",
       "    <tr>\n",
       "      <th>433070</th>\n",
       "      <td>100</td>\n",
       "      <td>5000.0</td>\n",
       "      <td>0.02000</td>\n",
       "      <td>0</td>\n",
       "      <td>Nan</td>\n",
       "    </tr>\n",
       "    <tr>\n",
       "      <th>300041</th>\n",
       "      <td>100000</td>\n",
       "      <td>90000.0</td>\n",
       "      <td>1.11111</td>\n",
       "      <td>1</td>\n",
       "      <td>Nan</td>\n",
       "    </tr>\n",
       "  </tbody>\n",
       "</table>\n",
       "</div>"
      ],
      "text/plain": [
       "        Assessed Value  Sale Amount  Sales Ratio  Years until sold  \\\n",
       "358557          100000     475000.0      0.21053                 1   \n",
       "569452          100000     230000.0      0.43478                 1   \n",
       "387250         1000000     561228.0      1.78181                 1   \n",
       "433070             100       5000.0      0.02000                 0   \n",
       "300041          100000      90000.0      1.11111                 1   \n",
       "\n",
       "       Property Type  \n",
       "358557           Nan  \n",
       "569452           Nan  \n",
       "387250           Nan  \n",
       "433070           Nan  \n",
       "300041           Nan  "
      ]
     },
     "execution_count": 222,
     "metadata": {},
     "output_type": "execute_result"
    }
   ],
   "source": [
    "# get all row consisting of \"Nan\" in the Property Type column\n",
    "df2_nan_pt_predict = df2_ml[df2_ml['Property Type'] == 'Nan'].drop('Residential Type', axis=1).copy()\n",
    "df2_nan_pt_predict.head()"
   ]
  },
  {
   "cell_type": "code",
   "execution_count": 223,
   "metadata": {},
   "outputs": [
    {
     "data": {
      "text/plain": [
       "array(['Residential', 'Residential', 'Residential', ..., 'Residential',\n",
       "       'Residential', 'Residential'], dtype=object)"
      ]
     },
     "execution_count": 223,
     "metadata": {},
     "output_type": "execute_result"
    }
   ],
   "source": [
    "# predict the data using the final_knn model\n",
    "best_knn_property = pickle.loads(knn_property_type)\n",
    "nan_pt_predict = best_knn_property.predict(df2_nan_pt_predict[df2_nan_pt_predict.columns[:-1]].values)\n",
    "nan_pt_predict"
   ]
  },
  {
   "cell_type": "code",
   "execution_count": 224,
   "metadata": {},
   "outputs": [
    {
     "data": {
      "text/html": [
       "<div>\n",
       "<style scoped>\n",
       "    .dataframe tbody tr th:only-of-type {\n",
       "        vertical-align: middle;\n",
       "    }\n",
       "\n",
       "    .dataframe tbody tr th {\n",
       "        vertical-align: top;\n",
       "    }\n",
       "\n",
       "    .dataframe thead th {\n",
       "        text-align: right;\n",
       "    }\n",
       "</style>\n",
       "<table border=\"1\" class=\"dataframe\">\n",
       "  <thead>\n",
       "    <tr style=\"text-align: right;\">\n",
       "      <th></th>\n",
       "      <th>Assessed Value</th>\n",
       "      <th>Sale Amount</th>\n",
       "      <th>Sales Ratio</th>\n",
       "      <th>Years until sold</th>\n",
       "      <th>Property Type</th>\n",
       "      <th>Residential Type</th>\n",
       "    </tr>\n",
       "  </thead>\n",
       "  <tbody>\n",
       "    <tr>\n",
       "      <th>358557</th>\n",
       "      <td>100000</td>\n",
       "      <td>475000.0</td>\n",
       "      <td>0.21053</td>\n",
       "      <td>1</td>\n",
       "      <td>Residential</td>\n",
       "      <td>Nan</td>\n",
       "    </tr>\n",
       "    <tr>\n",
       "      <th>569452</th>\n",
       "      <td>100000</td>\n",
       "      <td>230000.0</td>\n",
       "      <td>0.43478</td>\n",
       "      <td>1</td>\n",
       "      <td>Residential</td>\n",
       "      <td>Nan</td>\n",
       "    </tr>\n",
       "    <tr>\n",
       "      <th>387250</th>\n",
       "      <td>1000000</td>\n",
       "      <td>561228.0</td>\n",
       "      <td>1.78181</td>\n",
       "      <td>1</td>\n",
       "      <td>Residential</td>\n",
       "      <td>Nan</td>\n",
       "    </tr>\n",
       "    <tr>\n",
       "      <th>23750</th>\n",
       "      <td>100000</td>\n",
       "      <td>231000.0</td>\n",
       "      <td>0.43290</td>\n",
       "      <td>1</td>\n",
       "      <td>Residential</td>\n",
       "      <td>Single Family</td>\n",
       "    </tr>\n",
       "    <tr>\n",
       "      <th>433070</th>\n",
       "      <td>100</td>\n",
       "      <td>5000.0</td>\n",
       "      <td>0.02000</td>\n",
       "      <td>0</td>\n",
       "      <td>Residential</td>\n",
       "      <td>Nan</td>\n",
       "    </tr>\n",
       "  </tbody>\n",
       "</table>\n",
       "</div>"
      ],
      "text/plain": [
       "        Assessed Value  Sale Amount  Sales Ratio  Years until sold  \\\n",
       "358557          100000     475000.0      0.21053                 1   \n",
       "569452          100000     230000.0      0.43478                 1   \n",
       "387250         1000000     561228.0      1.78181                 1   \n",
       "23750           100000     231000.0      0.43290                 1   \n",
       "433070             100       5000.0      0.02000                 0   \n",
       "\n",
       "       Property Type Residential Type  \n",
       "358557   Residential              Nan  \n",
       "569452   Residential              Nan  \n",
       "387250   Residential              Nan  \n",
       "23750    Residential    Single Family  \n",
       "433070   Residential              Nan  "
      ]
     },
     "execution_count": 224,
     "metadata": {},
     "output_type": "execute_result"
    }
   ],
   "source": [
    "# update the all the Nan(s) in the Property Type column with the predicted value\n",
    "df2_nan_pt_predict['Property Type'] = nan_pt_predict.reshape(-1,)\n",
    "\n",
    "# combine predicted property type dataframe with the non_nan property type dataframe\n",
    "df2_pt_predict_done = pd.concat([df2_nan_pt_predict, df2_ml_not_nan_pt])\n",
    "\n",
    "# update the dataframe that we've prepared to perform machine learning in the beginning so that we can use for the next prediction\n",
    "df2_ml[df2_ml.columns[:-1]] = df2_pt_predict_done.reindex(df2_ml.index) # use reindex to match indices of df2_ml\n",
    "df2_ml.head()\n"
   ]
  },
  {
   "cell_type": "code",
   "execution_count": 225,
   "metadata": {},
   "outputs": [
    {
     "data": {
      "text/plain": [
       "Property Type\n",
       "Residential       956323\n",
       "Vacant Land         2944\n",
       "Commercial          1938\n",
       "Industrial           226\n",
       "Public Utility         4\n",
       "Name: count, dtype: int64"
      ]
     },
     "execution_count": 225,
     "metadata": {},
     "output_type": "execute_result"
    }
   ],
   "source": [
    "df2_ml['Property Type'].value_counts()"
   ]
  },
  {
   "cell_type": "markdown",
   "metadata": {},
   "source": [
    "#### Now, I'm going to predict the residential type for residential property"
   ]
  },
  {
   "cell_type": "code",
   "execution_count": 226,
   "metadata": {},
   "outputs": [],
   "source": [
    "df2_ml_rt = df2_ml[df2_ml['Property Type'] == 'Residential'].copy()"
   ]
  },
  {
   "cell_type": "code",
   "execution_count": 227,
   "metadata": {},
   "outputs": [
    {
     "data": {
      "text/html": [
       "<div>\n",
       "<style scoped>\n",
       "    .dataframe tbody tr th:only-of-type {\n",
       "        vertical-align: middle;\n",
       "    }\n",
       "\n",
       "    .dataframe tbody tr th {\n",
       "        vertical-align: top;\n",
       "    }\n",
       "\n",
       "    .dataframe thead th {\n",
       "        text-align: right;\n",
       "    }\n",
       "</style>\n",
       "<table border=\"1\" class=\"dataframe\">\n",
       "  <thead>\n",
       "    <tr style=\"text-align: right;\">\n",
       "      <th></th>\n",
       "      <th>Assessed Value</th>\n",
       "      <th>Sale Amount</th>\n",
       "      <th>Sales Ratio</th>\n",
       "      <th>Years until sold</th>\n",
       "      <th>Property Type</th>\n",
       "      <th>Residential Type</th>\n",
       "    </tr>\n",
       "  </thead>\n",
       "  <tbody>\n",
       "    <tr>\n",
       "      <th>358557</th>\n",
       "      <td>100000</td>\n",
       "      <td>475000.0</td>\n",
       "      <td>0.21053</td>\n",
       "      <td>1</td>\n",
       "      <td>Residential</td>\n",
       "      <td>Nan</td>\n",
       "    </tr>\n",
       "    <tr>\n",
       "      <th>569452</th>\n",
       "      <td>100000</td>\n",
       "      <td>230000.0</td>\n",
       "      <td>0.43478</td>\n",
       "      <td>1</td>\n",
       "      <td>Residential</td>\n",
       "      <td>Nan</td>\n",
       "    </tr>\n",
       "    <tr>\n",
       "      <th>387250</th>\n",
       "      <td>1000000</td>\n",
       "      <td>561228.0</td>\n",
       "      <td>1.78181</td>\n",
       "      <td>1</td>\n",
       "      <td>Residential</td>\n",
       "      <td>Nan</td>\n",
       "    </tr>\n",
       "    <tr>\n",
       "      <th>23750</th>\n",
       "      <td>100000</td>\n",
       "      <td>231000.0</td>\n",
       "      <td>0.43290</td>\n",
       "      <td>1</td>\n",
       "      <td>Residential</td>\n",
       "      <td>Single Family</td>\n",
       "    </tr>\n",
       "    <tr>\n",
       "      <th>433070</th>\n",
       "      <td>100</td>\n",
       "      <td>5000.0</td>\n",
       "      <td>0.02000</td>\n",
       "      <td>0</td>\n",
       "      <td>Residential</td>\n",
       "      <td>Nan</td>\n",
       "    </tr>\n",
       "  </tbody>\n",
       "</table>\n",
       "</div>"
      ],
      "text/plain": [
       "        Assessed Value  Sale Amount  Sales Ratio  Years until sold  \\\n",
       "358557          100000     475000.0      0.21053                 1   \n",
       "569452          100000     230000.0      0.43478                 1   \n",
       "387250         1000000     561228.0      1.78181                 1   \n",
       "23750           100000     231000.0      0.43290                 1   \n",
       "433070             100       5000.0      0.02000                 0   \n",
       "\n",
       "       Property Type Residential Type  \n",
       "358557   Residential              Nan  \n",
       "569452   Residential              Nan  \n",
       "387250   Residential              Nan  \n",
       "23750    Residential    Single Family  \n",
       "433070   Residential              Nan  "
      ]
     },
     "execution_count": 227,
     "metadata": {},
     "output_type": "execute_result"
    }
   ],
   "source": [
    "df2_ml_rt.head()"
   ]
  },
  {
   "cell_type": "code",
   "execution_count": 228,
   "metadata": {},
   "outputs": [
    {
     "data": {
      "text/plain": [
       "Residential Type\n",
       "Single Family    433885\n",
       "Nan              361678\n",
       "Condo            115658\n",
       "Two Family        28665\n",
       "Three Family      13596\n",
       "Four Family        2362\n",
       "Apartments          479\n",
       "Name: count, dtype: int64"
      ]
     },
     "execution_count": 228,
     "metadata": {},
     "output_type": "execute_result"
    }
   ],
   "source": [
    "df2_ml_rt['Residential Type'].value_counts()"
   ]
  },
  {
   "cell_type": "code",
   "execution_count": 229,
   "metadata": {},
   "outputs": [
    {
     "data": {
      "text/html": [
       "<div>\n",
       "<style scoped>\n",
       "    .dataframe tbody tr th:only-of-type {\n",
       "        vertical-align: middle;\n",
       "    }\n",
       "\n",
       "    .dataframe tbody tr th {\n",
       "        vertical-align: top;\n",
       "    }\n",
       "\n",
       "    .dataframe thead th {\n",
       "        text-align: right;\n",
       "    }\n",
       "</style>\n",
       "<table border=\"1\" class=\"dataframe\">\n",
       "  <thead>\n",
       "    <tr style=\"text-align: right;\">\n",
       "      <th></th>\n",
       "      <th>Serial Number</th>\n",
       "      <th>List Year</th>\n",
       "      <th>Date Recorded</th>\n",
       "      <th>Town</th>\n",
       "      <th>Address</th>\n",
       "      <th>Assessed Value</th>\n",
       "      <th>Sale Amount</th>\n",
       "      <th>Sales Ratio</th>\n",
       "      <th>Property Type</th>\n",
       "      <th>Residential Type</th>\n",
       "      <th>Years until sold</th>\n",
       "    </tr>\n",
       "  </thead>\n",
       "  <tbody>\n",
       "    <tr>\n",
       "      <th>358557</th>\n",
       "      <td>50138</td>\n",
       "      <td>2005</td>\n",
       "      <td>2006-04-03</td>\n",
       "      <td>Old Saybrook</td>\n",
       "      <td>175 FERRY RD 14</td>\n",
       "      <td>100000</td>\n",
       "      <td>475000.0</td>\n",
       "      <td>0.21053</td>\n",
       "      <td>Nan</td>\n",
       "      <td>Nan</td>\n",
       "      <td>1</td>\n",
       "    </tr>\n",
       "    <tr>\n",
       "      <th>569452</th>\n",
       "      <td>10616</td>\n",
       "      <td>2010</td>\n",
       "      <td>2011-09-13</td>\n",
       "      <td>Wethersfield</td>\n",
       "      <td>30 CALIBER LN</td>\n",
       "      <td>100000</td>\n",
       "      <td>230000.0</td>\n",
       "      <td>0.43478</td>\n",
       "      <td>Nan</td>\n",
       "      <td>Nan</td>\n",
       "      <td>1</td>\n",
       "    </tr>\n",
       "    <tr>\n",
       "      <th>387250</th>\n",
       "      <td>50178</td>\n",
       "      <td>2005</td>\n",
       "      <td>2006-05-16</td>\n",
       "      <td>Old Saybrook</td>\n",
       "      <td>175 FERRY RD 27</td>\n",
       "      <td>1000000</td>\n",
       "      <td>561228.0</td>\n",
       "      <td>1.78181</td>\n",
       "      <td>Nan</td>\n",
       "      <td>Nan</td>\n",
       "      <td>1</td>\n",
       "    </tr>\n",
       "    <tr>\n",
       "      <th>23750</th>\n",
       "      <td>20018</td>\n",
       "      <td>2020</td>\n",
       "      <td>2021-01-21</td>\n",
       "      <td>Andover</td>\n",
       "      <td>24 SKINNER HILL RD</td>\n",
       "      <td>100000</td>\n",
       "      <td>231000.0</td>\n",
       "      <td>0.43290</td>\n",
       "      <td>Residential</td>\n",
       "      <td>Single Family</td>\n",
       "      <td>1</td>\n",
       "    </tr>\n",
       "    <tr>\n",
       "      <th>433070</th>\n",
       "      <td>60004</td>\n",
       "      <td>2006</td>\n",
       "      <td>2006-10-05</td>\n",
       "      <td>Brooklyn</td>\n",
       "      <td>POMFRET RD</td>\n",
       "      <td>100</td>\n",
       "      <td>5000.0</td>\n",
       "      <td>0.02000</td>\n",
       "      <td>Nan</td>\n",
       "      <td>Nan</td>\n",
       "      <td>0</td>\n",
       "    </tr>\n",
       "  </tbody>\n",
       "</table>\n",
       "</div>"
      ],
      "text/plain": [
       "        Serial Number  List Year Date Recorded          Town  \\\n",
       "358557          50138       2005    2006-04-03  Old Saybrook   \n",
       "569452          10616       2010    2011-09-13  Wethersfield   \n",
       "387250          50178       2005    2006-05-16  Old Saybrook   \n",
       "23750           20018       2020    2021-01-21       Andover   \n",
       "433070          60004       2006    2006-10-05      Brooklyn   \n",
       "\n",
       "                   Address  Assessed Value  Sale Amount  Sales Ratio  \\\n",
       "358557     175 FERRY RD 14          100000     475000.0      0.21053   \n",
       "569452       30 CALIBER LN          100000     230000.0      0.43478   \n",
       "387250     175 FERRY RD 27         1000000     561228.0      1.78181   \n",
       "23750   24 SKINNER HILL RD          100000     231000.0      0.43290   \n",
       "433070          POMFRET RD             100       5000.0      0.02000   \n",
       "\n",
       "       Property Type Residential Type  Years until sold  \n",
       "358557           Nan              Nan                 1  \n",
       "569452           Nan              Nan                 1  \n",
       "387250           Nan              Nan                 1  \n",
       "23750    Residential    Single Family                 1  \n",
       "433070           Nan              Nan                 0  "
      ]
     },
     "execution_count": 229,
     "metadata": {},
     "output_type": "execute_result"
    }
   ],
   "source": [
    "df1_numeric_clean.head()"
   ]
  },
  {
   "cell_type": "code",
   "execution_count": 230,
   "metadata": {},
   "outputs": [
    {
     "data": {
      "text/html": [
       "<div>\n",
       "<style scoped>\n",
       "    .dataframe tbody tr th:only-of-type {\n",
       "        vertical-align: middle;\n",
       "    }\n",
       "\n",
       "    .dataframe tbody tr th {\n",
       "        vertical-align: top;\n",
       "    }\n",
       "\n",
       "    .dataframe thead th {\n",
       "        text-align: right;\n",
       "    }\n",
       "</style>\n",
       "<table border=\"1\" class=\"dataframe\">\n",
       "  <thead>\n",
       "    <tr style=\"text-align: right;\">\n",
       "      <th></th>\n",
       "      <th>Assessed Value</th>\n",
       "      <th>Sale Amount</th>\n",
       "      <th>Sales Ratio</th>\n",
       "      <th>Residential Type</th>\n",
       "    </tr>\n",
       "  </thead>\n",
       "  <tbody>\n",
       "    <tr>\n",
       "      <th>23750</th>\n",
       "      <td>100000</td>\n",
       "      <td>231000.0</td>\n",
       "      <td>0.43290</td>\n",
       "      <td>Single Family</td>\n",
       "    </tr>\n",
       "    <tr>\n",
       "      <th>610046</th>\n",
       "      <td>100000</td>\n",
       "      <td>366000.0</td>\n",
       "      <td>0.27322</td>\n",
       "      <td>Condo</td>\n",
       "    </tr>\n",
       "    <tr>\n",
       "      <th>453243</th>\n",
       "      <td>100000</td>\n",
       "      <td>435400.0</td>\n",
       "      <td>0.22967</td>\n",
       "      <td>Condo</td>\n",
       "    </tr>\n",
       "    <tr>\n",
       "      <th>835864</th>\n",
       "      <td>100000</td>\n",
       "      <td>262500.0</td>\n",
       "      <td>0.38095</td>\n",
       "      <td>Single Family</td>\n",
       "    </tr>\n",
       "    <tr>\n",
       "      <th>529368</th>\n",
       "      <td>100000</td>\n",
       "      <td>279000.0</td>\n",
       "      <td>0.35842</td>\n",
       "      <td>Condo</td>\n",
       "    </tr>\n",
       "    <tr>\n",
       "      <th>...</th>\n",
       "      <td>...</td>\n",
       "      <td>...</td>\n",
       "      <td>...</td>\n",
       "      <td>...</td>\n",
       "    </tr>\n",
       "    <tr>\n",
       "      <th>992641</th>\n",
       "      <td>510241680</td>\n",
       "      <td>468000000.0</td>\n",
       "      <td>1.09026</td>\n",
       "      <td>Condo</td>\n",
       "    </tr>\n",
       "    <tr>\n",
       "      <th>994922</th>\n",
       "      <td>444478320</td>\n",
       "      <td>468000000.0</td>\n",
       "      <td>0.94974</td>\n",
       "      <td>Condo</td>\n",
       "    </tr>\n",
       "    <tr>\n",
       "      <th>996063</th>\n",
       "      <td>458382600</td>\n",
       "      <td>468000000.0</td>\n",
       "      <td>0.97945</td>\n",
       "      <td>Single Family</td>\n",
       "    </tr>\n",
       "    <tr>\n",
       "      <th>996597</th>\n",
       "      <td>427363560</td>\n",
       "      <td>468000000.0</td>\n",
       "      <td>0.91317</td>\n",
       "      <td>Condo</td>\n",
       "    </tr>\n",
       "    <tr>\n",
       "      <th>996735</th>\n",
       "      <td>444974400</td>\n",
       "      <td>468000000.0</td>\n",
       "      <td>0.95080</td>\n",
       "      <td>Single Family</td>\n",
       "    </tr>\n",
       "  </tbody>\n",
       "</table>\n",
       "<p>594645 rows × 4 columns</p>\n",
       "</div>"
      ],
      "text/plain": [
       "        Assessed Value  Sale Amount  Sales Ratio Residential Type\n",
       "23750           100000     231000.0      0.43290    Single Family\n",
       "610046          100000     366000.0      0.27322            Condo\n",
       "453243          100000     435400.0      0.22967            Condo\n",
       "835864          100000     262500.0      0.38095    Single Family\n",
       "529368          100000     279000.0      0.35842            Condo\n",
       "...                ...          ...          ...              ...\n",
       "992641       510241680  468000000.0      1.09026            Condo\n",
       "994922       444478320  468000000.0      0.94974            Condo\n",
       "996063       458382600  468000000.0      0.97945    Single Family\n",
       "996597       427363560  468000000.0      0.91317            Condo\n",
       "996735       444974400  468000000.0      0.95080    Single Family\n",
       "\n",
       "[594645 rows x 4 columns]"
      ]
     },
     "execution_count": 230,
     "metadata": {},
     "output_type": "execute_result"
    }
   ],
   "source": [
    "df2_ml_non_nan_rt = df2_ml_rt[df2_ml_rt['Residential Type'] != 'Nan'].drop(['Years until sold','Property Type'], axis= 1).copy()\n",
    "df2_ml_non_nan_rt"
   ]
  },
  {
   "cell_type": "code",
   "execution_count": 231,
   "metadata": {},
   "outputs": [],
   "source": [
    "rt_train, rt_test = train_test_split(df2_ml_non_nan_rt, test_size= 0.6, random_state= 42, shuffle= True)"
   ]
  },
  {
   "cell_type": "code",
   "execution_count": 232,
   "metadata": {},
   "outputs": [],
   "source": [
    "rt_train, rt_X_train, rt_y_train = scale_dataset(rt_train, 'Residential Type', oversample= True)\n",
    "rt_test, rt_X_test, rt_y_test = scale_dataset(rt_test, 'Residential Type', oversample= False)"
   ]
  },
  {
   "cell_type": "code",
   "execution_count": 233,
   "metadata": {},
   "outputs": [
    {
     "name": "stdout",
     "output_type": "stream",
     "text": [
      "-----------------------------------\n",
      "Accuracy = 0.5203636903810958\n",
      "Precision Score = 0.6027094400271429\n",
      "Recall Score = 0.5203636903810958\n",
      "F1-score = 0.5551659100545134\n",
      "-----------------------------------\n"
     ]
    }
   ],
   "source": [
    "knn_residential = KNeighborsClassifier()\n",
    "\n",
    "knn_residential.fit(rt_X_train, rt_y_train)\n",
    "rt_y_pred = knn_residential.predict(rt_X_test)\n",
    "\n",
    "# result\n",
    "accuracy = accuracy_score(rt_y_test, rt_y_pred)\n",
    "precision = precision_score(rt_y_test, rt_y_pred, average= 'weighted') \n",
    "recall = recall_score(rt_y_test, rt_y_pred, average= 'weighted')\n",
    "f1 = f1_score(rt_y_test, rt_y_pred, average= 'weighted')\n",
    "\n",
    "\n",
    "print('-'*35)\n",
    "print(f'Accuracy = {accuracy}')\n",
    "print(f'Precision Score = {precision}')\n",
    "print(f'Recall Score = {recall}')\n",
    "print(f'F1-score = {f1}')\n",
    "print('-'*35)"
   ]
  },
  {
   "cell_type": "code",
   "execution_count": 234,
   "metadata": {},
   "outputs": [
    {
     "name": "stdout",
     "output_type": "stream",
     "text": [
      "-----------------------------------\n",
      "k-Nearest-Neighbors\n",
      "-----------------------------------\n",
      "Accuracy = 0.5203636903810958\n",
      "Precision Score = 0.6027094400271429\n",
      "Recall Score = 0.5203636903810958\n",
      "F1-score = 0.5551659100545134\n",
      "-----------------------------------\n",
      "\n",
      "-----------------------------------\n",
      "Naive Bayes\n",
      "-----------------------------------\n",
      "Accuracy = 0.023425741408739667\n",
      "Precision Score = 0.6086492749609328\n",
      "Recall Score = 0.023425741408739667\n",
      "F1-score = 0.0019028372906126107\n",
      "-----------------------------------\n",
      "\n",
      "-----------------------------------\n",
      "Decision Tree\n",
      "-----------------------------------\n",
      "Accuracy = 0.5642862548243069\n",
      "Precision Score = 0.6019334597657552\n",
      "Recall Score = 0.5642862548243069\n",
      "F1-score = 0.5821907294396814\n",
      "-----------------------------------\n",
      "\n",
      "-----------------------------------\n",
      "Random Forest\n",
      "-----------------------------------\n",
      "Accuracy = 0.7237119065436801\n",
      "Precision Score = 0.6013410958372558\n",
      "Recall Score = 0.7237119065436801\n",
      "F1-score = 0.6231673483840228\n",
      "-----------------------------------\n",
      "\n"
     ]
    }
   ],
   "source": [
    "models = {\n",
    "    'k-Nearest-Neighbors': KNeighborsClassifier(),\n",
    "    'Naive Bayes': GaussianNB(),\n",
    "    'Decision Tree': DecisionTreeClassifier(),\n",
    "    'Random Forest': RandomForestClassifier()\n",
    "}\n",
    "\n",
    "for i in range (len(list(models))):\n",
    "    model = list(models.values())[i]\n",
    "\n",
    "    model.fit(rt_X_train, rt_y_train)\n",
    "    rt_y_pred = model.predict(rt_X_test)\n",
    "\n",
    "    # result\n",
    "    accuracy = accuracy_score(rt_y_test, rt_y_pred)\n",
    "    precision = precision_score(rt_y_test, rt_y_pred, average= 'weighted') \n",
    "    recall = recall_score(rt_y_test, rt_y_pred, average= 'weighted')\n",
    "    f1 = f1_score(rt_y_test, rt_y_pred, average= 'weighted')\n",
    "\n",
    "\n",
    "    print('-'*35)\n",
    "    print(list(models.keys())[i])\n",
    "    print('-'*35)\n",
    "    print(f'Accuracy = {accuracy}')\n",
    "    print(f'Precision Score = {precision}')\n",
    "    print(f'Recall Score = {recall}')\n",
    "    print(f'F1-score = {f1}')\n",
    "    print('-'*35)\n",
    "    print()"
   ]
  },
  {
   "cell_type": "markdown",
   "metadata": {},
   "source": [
    "END"
   ]
  },
  {
   "cell_type": "markdown",
   "metadata": {},
   "source": [
    "-----"
   ]
  },
  {
   "cell_type": "code",
   "execution_count": 235,
   "metadata": {},
   "outputs": [
    {
     "ename": "SyntaxError",
     "evalue": "unmatched '}' (3843655804.py, line 7)",
     "output_type": "error",
     "traceback": [
      "\u001b[1;36m  Cell \u001b[1;32mIn[235], line 7\u001b[1;36m\u001b[0m\n\u001b[1;33m    }\u001b[0m\n\u001b[1;37m    ^\u001b[0m\n\u001b[1;31mSyntaxError\u001b[0m\u001b[1;31m:\u001b[0m unmatched '}'\n"
     ]
    }
   ],
   "source": [
    "rfc_params = \n",
    "    'n_estimators': [10, 100],\n",
    "    'criterion': ['gini'],\n",
    "    'max_depth': [None, 5, 10, 15, 20],\n",
    "    'min_samples_split': [2, 5, 10, 15, 20],\n",
    "    'min_samples_leaf': [6, 10, 15, 20]\n",
    "}\n",
    "\n",
    "# grid search\n",
    "cv = StratifiedKFold(n_splits= 10)\n",
    "random_search = RandomizedSearchCV(estimator= RandomForestClassifier(),\n",
    "                                 param_distributions= rfc_params,\n",
    "                                 cv= cv,\n",
    "                                 n_iter= 10,\n",
    "                                 scoring= 'accuracy',\n",
    "                                 verbose= 2,\n",
    "                                 random_state= 42)\n",
    "random_result = random_search.fit(rt_X_train, rt_y_train)\n",
    "\n",
    "# final random forest classifier\n",
    "final_rfc = RandomForestClassifier(**grid_result.best_params_)\n",
    "final_rfc.fit(rt_X_train, rt_y_train)\n",
    "rt_y_pred = final_rfc.predict(rt_X_test)\n",
    "\n",
    "# test set evaluation\n",
    "knn_accuracy_score = accuracy_score(pt_y_test, pt_y_pred)\n",
    "knn_precision_score = precision_score(pt_y_test, pt_y_pred, average='weighted', zero_division=0)  # Choose the appropriate average\n",
    "knn_recall_score = recall_score(pt_y_test, pt_y_pred, average='weighted', zero_division=0)  # Choose the appropriate average\n",
    "knn_f1_score = f1_score(pt_y_test, pt_y_pred, average='weighted', zero_division=0)  # Choose the appropriate average\n",
    "\n",
    "print('-'*35)\n",
    "print(f'Accuracy Score: {round(knn_accuracy_score,5)}')\n",
    "print(f'Precision Score: {round(knn_precision_score,5)}')\n",
    "print(f'Recall Score: {round(knn_recall_score,5)}')\n",
    "print(f'F1 Score: {round(knn_f1_score,5)}')\n",
    "print(f'Labels with no predicted samples: {set(np.unique(rt_y_test)) - set(np.unique(rt_y_pred))}')\n",
    "print(f'Best parameters: {random_result.best_params_}')\n",
    "print('-'*35)"
   ]
  },
  {
   "cell_type": "code",
   "execution_count": null,
   "metadata": {},
   "outputs": [
    {
     "name": "stdout",
     "output_type": "stream",
     "text": [
      "-----------------------------------\n",
      "Accuracy = 0.425509074346577\n",
      "Precision Score = 0.6534518925314389\n",
      "Recall Score = 0.425509074346577\n",
      "F1-score = 0.45056108284396734\n",
      "-----------------------------------\n"
     ]
    }
   ],
   "source": [
    "from sklearn.preprocessing import LabelEncoder\n",
    "from xgboost import XGBClassif\n",
    "from sklearn.metrics import accuracy_score, precision_score, recall_score, f1_score\n",
    "\n",
    "# Use LabelEncoder to convert string labels to numerical labels\n",
    "label_encoder = LabelEncoder()\n",
    "rt_y_train_encoded = label_encoder.fit_transform(rt_y_train)\n",
    "rt_y_test_encoded = label_encoder.transform(rt_y_test)\n",
    "\n",
    "# Create and train the XGBoost classifier\n",
    "boost = XGBClassifier()\n",
    "boost.fit(rt_X_train, rt_y_train_encoded)\n",
    "rt_y_pred_encoded = boost.predict(rt_X_test)\n",
    "\n",
    "# Decode the predictions back to original labels if needed\n",
    "rt_y_pred = label_encoder.inverse_transform(rt_y_pred_encoded)\n",
    "\n",
    "# Calculate metrics\n",
    "accuracy = accuracy_score(rt_y_test, rt_y_pred)\n",
    "precision = precision_score(rt_y_test, rt_y_pred, average='weighted')\n",
    "recall = recall_score(rt_y_test, rt_y_pred, average='weighted')\n",
    "f1 = f1_score(rt_y_test, rt_y_pred, average='weighted')\n",
    "\n",
    "print('-'*35)\n",
    "print(f'Accuracy = {accuracy}')\n",
    "print(f'Precision Score = {precision}')\n",
    "print(f'Recall Score = {recall}')\n",
    "print(f'F1-score = {f1}')\n",
    "print('-'*35)\n"
   ]
  },
  {
   "cell_type": "code",
   "execution_count": null,
   "metadata": {},
   "outputs": [],
   "source": [
    "# dict for mean of the Assessed Value per Address\n",
    "# I don't include the property type because the same address should have the same type\n",
    "mean_assessed_value_per_address = df1_assessed_and_sale_above100[(df1_assessed_and_sale_above100['Property Type']!='Nan')\n",
    "                                                                 & (df1_assessed_and_sale_above100['Residential Type']!='Nan')].groupby(['Address'])['Assessed Value'].mean().round(0).to_dict()\n",
    "\n",
    "# dict for mean of the Sale Amount per Address\n",
    "# I don't include the property type because the same address should have the same type\n",
    "mean_sale_amount_per_address = df1_assessed_and_sale_above100[(df1_assessed_and_sale_above100['Property Type']!='Nan')\n",
    "                                                                 & (df1_assessed_and_sale_above100['Residential Type']!='Nan')].groupby(['Address'])['Sale Amount'].mean().round(0).to_dict()\n",
    "\n",
    "# dict for mean of the Assessed Value column per town and property type\n",
    "mean_assessed_value_per_town = df1_assessed_and_sale_above100.groupby(['Town','Property Type'])['Assessed Value'].mean().round(0).to_dict()\n",
    "\n",
    "# dict for mean of the Sale Amount column per town and property type\n",
    "mean_sale_amount_per_town = df1_assessed_and_sale_above100.groupby(['Town','Property Type'])['Sale Amount'].mean().round(0).to_dict()"
   ]
  },
  {
   "cell_type": "code",
   "execution_count": null,
   "metadata": {},
   "outputs": [],
   "source": [
    "# for index,row in df1_assessed_or_sale_eq0.iterrows():\n",
    "#     # variable initiation\n",
    "#     town = row['Town']\n",
    "#     address = row['Address']\n",
    "#     assessed_value = row['Assessed Value']\n",
    "#     sale_amount = row['Sale Amount']\n",
    "#     property_type = row['Property Type']\n",
    "\n",
    "#     sales_ratio = round(random.uniform(0.85,1.15),5)\n",
    "#     # replace 0 value in the Assessed Value and/or Sale Amount column\n",
    "#     if assessed_value == 0:\n",
    "#         if address in mean_assessed_value_per_address:\n",
    "#             assessed_value = mean_assessed_value_per_address[address]\n",
    "#         else:\n",
    "#             assessed_value = mean_assessed_value_per_town[(town, property_type)]\n",
    "#     if sale_amount == 0:\n",
    "#         if address in mean_sale_amount_per_address:\n",
    "#             sale_amount = mean_sale_amount_per_address[address]\n",
    "#         else:\n",
    "#             sale_amount = mean_sale_amount_per_town[(town, property_type)]\n",
    "\n",
    "#     # get the digits difference length between the assessed value and the sale amount\n",
    "#     assessed_value_digits = len(str(assessed_value).split('.', 1)[0])\n",
    "#     sale_amount_digits = len(str(sale_amount).split('.', 1)[0])\n",
    "#     diff_digits = abs(assessed_value_digits - sale_amount_digits)\n",
    "\n",
    "#     # adjust the digits by multiplying with 10**diff_digits\n",
    "#     if (assessed_value_digits > sale_amount_digits) and (diff_digits > 1): \n",
    "#         sale_amount *= 10**diff_digits\n",
    "#         sales_ratio = assessed_value / sale_amount\n",
    "        \n",
    "#         # According to iaao.org, property assessment sales ratio is between 90% - 110%\n",
    "#         if (sales_ratio < 0.9) & (sales_ratio > 1.1):\n",
    "#             sale_amount *= 10\n",
    "#     elif (sale_amount_digits > assessed_value_digits) and (diff_digits > 1):\n",
    "#         assessed_value *= 10**diff_digits\n",
    "#         sales_ratio = assessed_value / sale_amount\n",
    "\n",
    "#         # According to iaao.org, property assessment sales ratio is between 90% - 110%\n",
    "#         if (sales_ratio < 0.9) & (sales_ratio > 1.1):\n",
    "#             assessed_value *= 10\n",
    "\n",
    "#     # update the sales ratio\n",
    "#     sales_ratio = round(assessed_value / sale_amount, 5)\n",
    "\n",
    "#     # Update values in the DataFrame using loc\n",
    "#     df1_assessed_or_sale_eq0.loc[index, 'Sale Amount'] = sale_amount\n",
    "#     df1_assessed_or_sale_eq0.loc[index, 'Assessed Value'] = assessed_value\n",
    "#     df1_assessed_or_sale_eq0.loc[index, 'Sales Ratio'] = sales_ratio"
   ]
  }
 ],
 "metadata": {
  "kernelspec": {
   "display_name": "Python 3",
   "language": "python",
   "name": "python3"
  },
  "language_info": {
   "codemirror_mode": {
    "name": "ipython",
    "version": 3
   },
   "file_extension": ".py",
   "mimetype": "text/x-python",
   "name": "python",
   "nbconvert_exporter": "python",
   "pygments_lexer": "ipython3",
   "version": "3.12.2"
  }
 },
 "nbformat": 4,
 "nbformat_minor": 2
}
